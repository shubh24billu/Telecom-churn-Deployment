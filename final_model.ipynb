{
 "cells": [
  {
   "cell_type": "code",
   "execution_count": 1,
   "id": "f8a02cc8",
   "metadata": {},
   "outputs": [],
   "source": [
    "import pandas as pd\n",
    "import matplotlib.pyplot as plt\n",
    "import seaborn as sns\n",
    "import numpy as np\n",
    "from sklearn.linear_model import LogisticRegression, LinearRegression\n",
    "from sklearn.model_selection import train_test_split, GridSearchCV, StratifiedKFold\n",
    "from sklearn.metrics import classification_report,accuracy_score,confusion_matrix,roc_auc_score,roc_curve\n",
    "from sklearn.tree import  DecisionTreeClassifier\n",
    "from sklearn import svm\n",
    "from sklearn.ensemble import GradientBoostingClassifier\n",
    "from sklearn.feature_selection import RFE\n",
    "from xgboost import XGBClassifier\n",
    "from sklearn.model_selection import KFold,cross_val_score"
   ]
  },
  {
   "cell_type": "code",
   "execution_count": 71,
   "id": "9ba47774",
   "metadata": {},
   "outputs": [],
   "source": [
    "telecom = pd.read_csv(\"tele_model_data.csv\")"
   ]
  },
  {
   "cell_type": "code",
   "execution_count": 72,
   "id": "4d4bade3",
   "metadata": {},
   "outputs": [
    {
     "data": {
      "text/html": [
       "<div>\n",
       "<style scoped>\n",
       "    .dataframe tbody tr th:only-of-type {\n",
       "        vertical-align: middle;\n",
       "    }\n",
       "\n",
       "    .dataframe tbody tr th {\n",
       "        vertical-align: top;\n",
       "    }\n",
       "\n",
       "    .dataframe thead th {\n",
       "        text-align: right;\n",
       "    }\n",
       "</style>\n",
       "<table border=\"1\" class=\"dataframe\">\n",
       "  <thead>\n",
       "    <tr style=\"text-align: right;\">\n",
       "      <th></th>\n",
       "      <th>voice_mail_plan</th>\n",
       "      <th>international_mins</th>\n",
       "      <th>customer_service_calls</th>\n",
       "      <th>international_plan</th>\n",
       "      <th>international_calls</th>\n",
       "      <th>total_charge</th>\n",
       "      <th>churn</th>\n",
       "    </tr>\n",
       "  </thead>\n",
       "  <tbody>\n",
       "    <tr>\n",
       "      <th>0</th>\n",
       "      <td>1</td>\n",
       "      <td>10.0</td>\n",
       "      <td>1</td>\n",
       "      <td>0</td>\n",
       "      <td>3</td>\n",
       "      <td>75.56</td>\n",
       "      <td>0</td>\n",
       "    </tr>\n",
       "    <tr>\n",
       "      <th>1</th>\n",
       "      <td>1</td>\n",
       "      <td>13.7</td>\n",
       "      <td>1</td>\n",
       "      <td>0</td>\n",
       "      <td>3</td>\n",
       "      <td>59.24</td>\n",
       "      <td>0</td>\n",
       "    </tr>\n",
       "    <tr>\n",
       "      <th>2</th>\n",
       "      <td>0</td>\n",
       "      <td>12.2</td>\n",
       "      <td>0</td>\n",
       "      <td>0</td>\n",
       "      <td>5</td>\n",
       "      <td>62.29</td>\n",
       "      <td>0</td>\n",
       "    </tr>\n",
       "    <tr>\n",
       "      <th>3</th>\n",
       "      <td>0</td>\n",
       "      <td>6.6</td>\n",
       "      <td>2</td>\n",
       "      <td>1</td>\n",
       "      <td>7</td>\n",
       "      <td>66.80</td>\n",
       "      <td>0</td>\n",
       "    </tr>\n",
       "    <tr>\n",
       "      <th>4</th>\n",
       "      <td>0</td>\n",
       "      <td>10.1</td>\n",
       "      <td>3</td>\n",
       "      <td>1</td>\n",
       "      <td>3</td>\n",
       "      <td>52.09</td>\n",
       "      <td>0</td>\n",
       "    </tr>\n",
       "    <tr>\n",
       "      <th>...</th>\n",
       "      <td>...</td>\n",
       "      <td>...</td>\n",
       "      <td>...</td>\n",
       "      <td>...</td>\n",
       "      <td>...</td>\n",
       "      <td>...</td>\n",
       "      <td>...</td>\n",
       "    </tr>\n",
       "    <tr>\n",
       "      <th>3328</th>\n",
       "      <td>1</td>\n",
       "      <td>9.9</td>\n",
       "      <td>2</td>\n",
       "      <td>0</td>\n",
       "      <td>6</td>\n",
       "      <td>60.10</td>\n",
       "      <td>0</td>\n",
       "    </tr>\n",
       "    <tr>\n",
       "      <th>3329</th>\n",
       "      <td>0</td>\n",
       "      <td>9.6</td>\n",
       "      <td>3</td>\n",
       "      <td>0</td>\n",
       "      <td>4</td>\n",
       "      <td>63.53</td>\n",
       "      <td>0</td>\n",
       "    </tr>\n",
       "    <tr>\n",
       "      <th>3330</th>\n",
       "      <td>0</td>\n",
       "      <td>14.1</td>\n",
       "      <td>2</td>\n",
       "      <td>0</td>\n",
       "      <td>6</td>\n",
       "      <td>67.74</td>\n",
       "      <td>0</td>\n",
       "    </tr>\n",
       "    <tr>\n",
       "      <th>3331</th>\n",
       "      <td>0</td>\n",
       "      <td>5.0</td>\n",
       "      <td>2</td>\n",
       "      <td>1</td>\n",
       "      <td>10</td>\n",
       "      <td>57.53</td>\n",
       "      <td>0</td>\n",
       "    </tr>\n",
       "    <tr>\n",
       "      <th>3332</th>\n",
       "      <td>1</td>\n",
       "      <td>13.7</td>\n",
       "      <td>0</td>\n",
       "      <td>0</td>\n",
       "      <td>4</td>\n",
       "      <td>77.01</td>\n",
       "      <td>0</td>\n",
       "    </tr>\n",
       "  </tbody>\n",
       "</table>\n",
       "<p>3333 rows × 7 columns</p>\n",
       "</div>"
      ],
      "text/plain": [
       "      voice_mail_plan  international_mins  customer_service_calls  \\\n",
       "0                   1                10.0                       1   \n",
       "1                   1                13.7                       1   \n",
       "2                   0                12.2                       0   \n",
       "3                   0                 6.6                       2   \n",
       "4                   0                10.1                       3   \n",
       "...               ...                 ...                     ...   \n",
       "3328                1                 9.9                       2   \n",
       "3329                0                 9.6                       3   \n",
       "3330                0                14.1                       2   \n",
       "3331                0                 5.0                       2   \n",
       "3332                1                13.7                       0   \n",
       "\n",
       "      international_plan  international_calls  total_charge  churn  \n",
       "0                      0                    3         75.56      0  \n",
       "1                      0                    3         59.24      0  \n",
       "2                      0                    5         62.29      0  \n",
       "3                      1                    7         66.80      0  \n",
       "4                      1                    3         52.09      0  \n",
       "...                  ...                  ...           ...    ...  \n",
       "3328                   0                    6         60.10      0  \n",
       "3329                   0                    4         63.53      0  \n",
       "3330                   0                    6         67.74      0  \n",
       "3331                   1                   10         57.53      0  \n",
       "3332                   0                    4         77.01      0  \n",
       "\n",
       "[3333 rows x 7 columns]"
      ]
     },
     "execution_count": 72,
     "metadata": {},
     "output_type": "execute_result"
    }
   ],
   "source": [
    "telecom"
   ]
  },
  {
   "cell_type": "code",
   "execution_count": 74,
   "id": "653cfe11",
   "metadata": {},
   "outputs": [
    {
     "data": {
      "text/html": [
       "<div>\n",
       "<style scoped>\n",
       "    .dataframe tbody tr th:only-of-type {\n",
       "        vertical-align: middle;\n",
       "    }\n",
       "\n",
       "    .dataframe tbody tr th {\n",
       "        vertical-align: top;\n",
       "    }\n",
       "\n",
       "    .dataframe thead th {\n",
       "        text-align: right;\n",
       "    }\n",
       "</style>\n",
       "<table border=\"1\" class=\"dataframe\">\n",
       "  <thead>\n",
       "    <tr style=\"text-align: right;\">\n",
       "      <th></th>\n",
       "      <th>voice_mail_plan</th>\n",
       "      <th>international_mins</th>\n",
       "      <th>customer_service_calls</th>\n",
       "      <th>international_plan</th>\n",
       "      <th>international_calls</th>\n",
       "      <th>total_charge</th>\n",
       "      <th>churn</th>\n",
       "    </tr>\n",
       "  </thead>\n",
       "  <tbody>\n",
       "    <tr>\n",
       "      <th>count</th>\n",
       "      <td>3333.000000</td>\n",
       "      <td>3333.000000</td>\n",
       "      <td>3333.000000</td>\n",
       "      <td>3333.000000</td>\n",
       "      <td>3333.000000</td>\n",
       "      <td>3333.000000</td>\n",
       "      <td>3333.000000</td>\n",
       "    </tr>\n",
       "    <tr>\n",
       "      <th>mean</th>\n",
       "      <td>0.276628</td>\n",
       "      <td>10.237294</td>\n",
       "      <td>1.562856</td>\n",
       "      <td>0.096910</td>\n",
       "      <td>4.479448</td>\n",
       "      <td>59.449754</td>\n",
       "      <td>0.144914</td>\n",
       "    </tr>\n",
       "    <tr>\n",
       "      <th>std</th>\n",
       "      <td>0.447398</td>\n",
       "      <td>2.791840</td>\n",
       "      <td>1.315491</td>\n",
       "      <td>0.295879</td>\n",
       "      <td>2.461214</td>\n",
       "      <td>10.502261</td>\n",
       "      <td>0.352067</td>\n",
       "    </tr>\n",
       "    <tr>\n",
       "      <th>min</th>\n",
       "      <td>0.000000</td>\n",
       "      <td>0.000000</td>\n",
       "      <td>0.000000</td>\n",
       "      <td>0.000000</td>\n",
       "      <td>0.000000</td>\n",
       "      <td>22.930000</td>\n",
       "      <td>0.000000</td>\n",
       "    </tr>\n",
       "    <tr>\n",
       "      <th>25%</th>\n",
       "      <td>0.000000</td>\n",
       "      <td>8.500000</td>\n",
       "      <td>1.000000</td>\n",
       "      <td>0.000000</td>\n",
       "      <td>3.000000</td>\n",
       "      <td>52.380000</td>\n",
       "      <td>0.000000</td>\n",
       "    </tr>\n",
       "    <tr>\n",
       "      <th>50%</th>\n",
       "      <td>0.000000</td>\n",
       "      <td>10.300000</td>\n",
       "      <td>1.000000</td>\n",
       "      <td>0.000000</td>\n",
       "      <td>4.000000</td>\n",
       "      <td>59.470000</td>\n",
       "      <td>0.000000</td>\n",
       "    </tr>\n",
       "    <tr>\n",
       "      <th>75%</th>\n",
       "      <td>1.000000</td>\n",
       "      <td>12.100000</td>\n",
       "      <td>2.000000</td>\n",
       "      <td>0.000000</td>\n",
       "      <td>6.000000</td>\n",
       "      <td>66.480000</td>\n",
       "      <td>0.000000</td>\n",
       "    </tr>\n",
       "    <tr>\n",
       "      <th>max</th>\n",
       "      <td>1.000000</td>\n",
       "      <td>20.000000</td>\n",
       "      <td>9.000000</td>\n",
       "      <td>1.000000</td>\n",
       "      <td>20.000000</td>\n",
       "      <td>96.150000</td>\n",
       "      <td>1.000000</td>\n",
       "    </tr>\n",
       "  </tbody>\n",
       "</table>\n",
       "</div>"
      ],
      "text/plain": [
       "       voice_mail_plan  international_mins  customer_service_calls  \\\n",
       "count      3333.000000         3333.000000             3333.000000   \n",
       "mean          0.276628           10.237294                1.562856   \n",
       "std           0.447398            2.791840                1.315491   \n",
       "min           0.000000            0.000000                0.000000   \n",
       "25%           0.000000            8.500000                1.000000   \n",
       "50%           0.000000           10.300000                1.000000   \n",
       "75%           1.000000           12.100000                2.000000   \n",
       "max           1.000000           20.000000                9.000000   \n",
       "\n",
       "       international_plan  international_calls  total_charge        churn  \n",
       "count         3333.000000          3333.000000   3333.000000  3333.000000  \n",
       "mean             0.096910             4.479448     59.449754     0.144914  \n",
       "std              0.295879             2.461214     10.502261     0.352067  \n",
       "min              0.000000             0.000000     22.930000     0.000000  \n",
       "25%              0.000000             3.000000     52.380000     0.000000  \n",
       "50%              0.000000             4.000000     59.470000     0.000000  \n",
       "75%              0.000000             6.000000     66.480000     0.000000  \n",
       "max              1.000000            20.000000     96.150000     1.000000  "
      ]
     },
     "execution_count": 74,
     "metadata": {},
     "output_type": "execute_result"
    }
   ],
   "source": [
    "telecom.describe()"
   ]
  },
  {
   "cell_type": "code",
   "execution_count": 35,
   "id": "6412303b",
   "metadata": {},
   "outputs": [],
   "source": [
    "X = telecom.drop(\"churn\", axis=1)\n",
    "y = telecom.churn\n",
    "\n",
    "train_x, test_x, train_y, test_y = train_test_split(X,\n",
    "                                                    y,\n",
    "                                                    test_size=0.2,\n",
    "                                                    random_state=42, stratify=y)\n"
   ]
  },
  {
   "cell_type": "code",
   "execution_count": 36,
   "id": "099e6390",
   "metadata": {},
   "outputs": [
    {
     "data": {
      "text/plain": [
       "0    2850\n",
       "1     483\n",
       "Name: churn, dtype: int64"
      ]
     },
     "execution_count": 36,
     "metadata": {},
     "output_type": "execute_result"
    }
   ],
   "source": [
    "y.value_counts()"
   ]
  },
  {
   "cell_type": "code",
   "execution_count": 69,
   "id": "ad5723e4",
   "metadata": {},
   "outputs": [
    {
     "name": "stdout",
     "output_type": "stream",
     "text": [
      "range(1, 11)\n"
     ]
    }
   ],
   "source": [
    "max_depth = range(1, 11, 1)\n",
    "print(max_depth)\n",
    "\n",
    "params={\n",
    " \"learning_rate\"    : [0.05, 0.10, 0.15, 0.20, 0.25, 0.30 ] ,\n",
    " \"n_estimators\"     : [50, 100, 200, 150, 250, 300]  \n",
    "}\n",
    "\n",
    "\n",
    "param_grid = dict(max_depth=max_depth)\n",
    "params.update(param_grid)"
   ]
  },
  {
   "cell_type": "code",
   "execution_count": 95,
   "id": "4278b806",
   "metadata": {},
   "outputs": [],
   "source": [
    "model = XGBClassifier()\n",
    "kfold = StratifiedKFold(n_splits=10, shuffle=True, random_state=42)\n",
    "grid_search = GridSearchCV(model, params, cv=kfold)\n",
    "grid_result = grid_search.fit(train_x, train_y)"
   ]
  },
  {
   "cell_type": "code",
   "execution_count": 96,
   "id": "ff389dc7",
   "metadata": {},
   "outputs": [
    {
     "name": "stdout",
     "output_type": "stream",
     "text": [
      "Best: 0.981244 using {'learning_rate': 0.05, 'max_depth': 3, 'n_estimators': 300}\n"
     ]
    }
   ],
   "source": [
    "print(\"Best: %f using %s\" % (grid_result.best_score_, grid_result.best_params_))"
   ]
  },
  {
   "cell_type": "code",
   "execution_count": 97,
   "id": "004307a1",
   "metadata": {},
   "outputs": [
    {
     "name": "stdout",
     "output_type": "stream",
     "text": [
      "0.894972 (0.010215) with: {'learning_rate': 0.05, 'max_depth': 1, 'n_estimators': 50}\n",
      "0.898347 (0.013372) with: {'learning_rate': 0.05, 'max_depth': 1, 'n_estimators': 100}\n",
      "0.906977 (0.014687) with: {'learning_rate': 0.05, 'max_depth': 1, 'n_estimators': 200}\n",
      "0.899471 (0.014332) with: {'learning_rate': 0.05, 'max_depth': 1, 'n_estimators': 150}\n",
      "0.912229 (0.013730) with: {'learning_rate': 0.05, 'max_depth': 1, 'n_estimators': 250}\n",
      "0.919738 (0.014492) with: {'learning_rate': 0.05, 'max_depth': 1, 'n_estimators': 300}\n",
      "0.929471 (0.012929) with: {'learning_rate': 0.05, 'max_depth': 2, 'n_estimators': 50}\n",
      "0.965485 (0.012080) with: {'learning_rate': 0.05, 'max_depth': 2, 'n_estimators': 100}\n",
      "0.979746 (0.008743) with: {'learning_rate': 0.05, 'max_depth': 2, 'n_estimators': 200}\n",
      "0.977872 (0.008934) with: {'learning_rate': 0.05, 'max_depth': 2, 'n_estimators': 150}\n",
      "0.979746 (0.008743) with: {'learning_rate': 0.05, 'max_depth': 2, 'n_estimators': 250}\n",
      "0.979371 (0.009517) with: {'learning_rate': 0.05, 'max_depth': 2, 'n_estimators': 300}\n",
      "0.979744 (0.009515) with: {'learning_rate': 0.05, 'max_depth': 3, 'n_estimators': 50}\n",
      "0.980869 (0.008945) with: {'learning_rate': 0.05, 'max_depth': 3, 'n_estimators': 100}\n",
      "0.980869 (0.008945) with: {'learning_rate': 0.05, 'max_depth': 3, 'n_estimators': 200}\n",
      "0.980869 (0.008945) with: {'learning_rate': 0.05, 'max_depth': 3, 'n_estimators': 150}\n",
      "0.980869 (0.008945) with: {'learning_rate': 0.05, 'max_depth': 3, 'n_estimators': 250}\n",
      "0.981244 (0.009186) with: {'learning_rate': 0.05, 'max_depth': 3, 'n_estimators': 300}\n",
      "0.980493 (0.009157) with: {'learning_rate': 0.05, 'max_depth': 4, 'n_estimators': 50}\n",
      "0.980869 (0.008945) with: {'learning_rate': 0.05, 'max_depth': 4, 'n_estimators': 100}\n",
      "0.980869 (0.008945) with: {'learning_rate': 0.05, 'max_depth': 4, 'n_estimators': 200}\n",
      "0.980869 (0.008945) with: {'learning_rate': 0.05, 'max_depth': 4, 'n_estimators': 150}\n",
      "0.980869 (0.008945) with: {'learning_rate': 0.05, 'max_depth': 4, 'n_estimators': 250}\n",
      "0.980869 (0.008945) with: {'learning_rate': 0.05, 'max_depth': 4, 'n_estimators': 300}\n",
      "0.979744 (0.009515) with: {'learning_rate': 0.05, 'max_depth': 5, 'n_estimators': 50}\n",
      "0.980119 (0.009785) with: {'learning_rate': 0.05, 'max_depth': 5, 'n_estimators': 100}\n",
      "0.980119 (0.009785) with: {'learning_rate': 0.05, 'max_depth': 5, 'n_estimators': 200}\n",
      "0.980119 (0.009785) with: {'learning_rate': 0.05, 'max_depth': 5, 'n_estimators': 150}\n",
      "0.980119 (0.009785) with: {'learning_rate': 0.05, 'max_depth': 5, 'n_estimators': 250}\n",
      "0.980119 (0.009785) with: {'learning_rate': 0.05, 'max_depth': 5, 'n_estimators': 300}\n",
      "0.979744 (0.009515) with: {'learning_rate': 0.05, 'max_depth': 6, 'n_estimators': 50}\n",
      "0.980119 (0.009785) with: {'learning_rate': 0.05, 'max_depth': 6, 'n_estimators': 100}\n",
      "0.980119 (0.009785) with: {'learning_rate': 0.05, 'max_depth': 6, 'n_estimators': 200}\n",
      "0.980119 (0.009785) with: {'learning_rate': 0.05, 'max_depth': 6, 'n_estimators': 150}\n",
      "0.980119 (0.009785) with: {'learning_rate': 0.05, 'max_depth': 6, 'n_estimators': 250}\n",
      "0.979744 (0.009515) with: {'learning_rate': 0.05, 'max_depth': 6, 'n_estimators': 300}\n",
      "0.979744 (0.009515) with: {'learning_rate': 0.05, 'max_depth': 7, 'n_estimators': 50}\n",
      "0.980119 (0.009785) with: {'learning_rate': 0.05, 'max_depth': 7, 'n_estimators': 100}\n",
      "0.980119 (0.009785) with: {'learning_rate': 0.05, 'max_depth': 7, 'n_estimators': 200}\n",
      "0.980119 (0.009785) with: {'learning_rate': 0.05, 'max_depth': 7, 'n_estimators': 150}\n",
      "0.980119 (0.009785) with: {'learning_rate': 0.05, 'max_depth': 7, 'n_estimators': 250}\n",
      "0.979744 (0.009515) with: {'learning_rate': 0.05, 'max_depth': 7, 'n_estimators': 300}\n",
      "0.979744 (0.009515) with: {'learning_rate': 0.05, 'max_depth': 8, 'n_estimators': 50}\n",
      "0.979744 (0.009515) with: {'learning_rate': 0.05, 'max_depth': 8, 'n_estimators': 100}\n",
      "0.980119 (0.009785) with: {'learning_rate': 0.05, 'max_depth': 8, 'n_estimators': 200}\n",
      "0.980119 (0.009785) with: {'learning_rate': 0.05, 'max_depth': 8, 'n_estimators': 150}\n",
      "0.980119 (0.009785) with: {'learning_rate': 0.05, 'max_depth': 8, 'n_estimators': 250}\n",
      "0.979744 (0.009515) with: {'learning_rate': 0.05, 'max_depth': 8, 'n_estimators': 300}\n",
      "0.979744 (0.009515) with: {'learning_rate': 0.05, 'max_depth': 9, 'n_estimators': 50}\n",
      "0.980119 (0.009785) with: {'learning_rate': 0.05, 'max_depth': 9, 'n_estimators': 100}\n",
      "0.980119 (0.009785) with: {'learning_rate': 0.05, 'max_depth': 9, 'n_estimators': 200}\n",
      "0.980119 (0.009785) with: {'learning_rate': 0.05, 'max_depth': 9, 'n_estimators': 150}\n",
      "0.979368 (0.009068) with: {'learning_rate': 0.05, 'max_depth': 9, 'n_estimators': 250}\n",
      "0.979744 (0.009515) with: {'learning_rate': 0.05, 'max_depth': 9, 'n_estimators': 300}\n",
      "0.979744 (0.009515) with: {'learning_rate': 0.05, 'max_depth': 10, 'n_estimators': 50}\n",
      "0.980119 (0.009785) with: {'learning_rate': 0.05, 'max_depth': 10, 'n_estimators': 100}\n",
      "0.979743 (0.009366) with: {'learning_rate': 0.05, 'max_depth': 10, 'n_estimators': 200}\n",
      "0.980119 (0.009785) with: {'learning_rate': 0.05, 'max_depth': 10, 'n_estimators': 150}\n",
      "0.979368 (0.009068) with: {'learning_rate': 0.05, 'max_depth': 10, 'n_estimators': 250}\n",
      "0.978992 (0.008745) with: {'learning_rate': 0.05, 'max_depth': 10, 'n_estimators': 300}\n",
      "0.898347 (0.013372) with: {'learning_rate': 0.1, 'max_depth': 1, 'n_estimators': 50}\n",
      "0.907353 (0.015086) with: {'learning_rate': 0.1, 'max_depth': 1, 'n_estimators': 100}\n",
      "0.929870 (0.014748) with: {'learning_rate': 0.1, 'max_depth': 1, 'n_estimators': 200}\n",
      "0.919738 (0.014492) with: {'learning_rate': 0.1, 'max_depth': 1, 'n_estimators': 150}\n",
      "0.930617 (0.013692) with: {'learning_rate': 0.1, 'max_depth': 1, 'n_estimators': 250}\n",
      "0.930241 (0.013061) with: {'learning_rate': 0.1, 'max_depth': 1, 'n_estimators': 300}\n",
      "0.973739 (0.008054) with: {'learning_rate': 0.1, 'max_depth': 2, 'n_estimators': 50}\n",
      "0.978248 (0.008343) with: {'learning_rate': 0.1, 'max_depth': 2, 'n_estimators': 100}\n",
      "0.978997 (0.008578) with: {'learning_rate': 0.1, 'max_depth': 2, 'n_estimators': 200}\n",
      "0.978622 (0.008715) with: {'learning_rate': 0.1, 'max_depth': 2, 'n_estimators': 150}\n",
      "0.978997 (0.008578) with: {'learning_rate': 0.1, 'max_depth': 2, 'n_estimators': 250}\n",
      "0.979371 (0.008588) with: {'learning_rate': 0.1, 'max_depth': 2, 'n_estimators': 300}\n",
      "0.980869 (0.008945) with: {'learning_rate': 0.1, 'max_depth': 3, 'n_estimators': 50}\n",
      "0.980869 (0.008945) with: {'learning_rate': 0.1, 'max_depth': 3, 'n_estimators': 100}\n",
      "0.980119 (0.008884) with: {'learning_rate': 0.1, 'max_depth': 3, 'n_estimators': 200}\n",
      "0.980119 (0.008884) with: {'learning_rate': 0.1, 'max_depth': 3, 'n_estimators': 150}\n",
      "0.979744 (0.008747) with: {'learning_rate': 0.1, 'max_depth': 3, 'n_estimators': 250}\n",
      "0.979744 (0.008747) with: {'learning_rate': 0.1, 'max_depth': 3, 'n_estimators': 300}\n",
      "0.980869 (0.008945) with: {'learning_rate': 0.1, 'max_depth': 4, 'n_estimators': 50}\n",
      "0.980869 (0.008945) with: {'learning_rate': 0.1, 'max_depth': 4, 'n_estimators': 100}\n",
      "0.980869 (0.008945) with: {'learning_rate': 0.1, 'max_depth': 4, 'n_estimators': 200}\n",
      "0.980869 (0.008945) with: {'learning_rate': 0.1, 'max_depth': 4, 'n_estimators': 150}\n",
      "0.980869 (0.008945) with: {'learning_rate': 0.1, 'max_depth': 4, 'n_estimators': 250}\n",
      "0.980869 (0.008945) with: {'learning_rate': 0.1, 'max_depth': 4, 'n_estimators': 300}\n",
      "0.980119 (0.009785) with: {'learning_rate': 0.1, 'max_depth': 5, 'n_estimators': 50}\n",
      "0.980119 (0.009785) with: {'learning_rate': 0.1, 'max_depth': 5, 'n_estimators': 100}\n",
      "0.980119 (0.009785) with: {'learning_rate': 0.1, 'max_depth': 5, 'n_estimators': 200}\n",
      "0.980119 (0.009785) with: {'learning_rate': 0.1, 'max_depth': 5, 'n_estimators': 150}\n",
      "0.979368 (0.009068) with: {'learning_rate': 0.1, 'max_depth': 5, 'n_estimators': 250}\n",
      "0.979368 (0.009068) with: {'learning_rate': 0.1, 'max_depth': 5, 'n_estimators': 300}\n",
      "0.980119 (0.009785) with: {'learning_rate': 0.1, 'max_depth': 6, 'n_estimators': 50}\n",
      "0.980119 (0.009785) with: {'learning_rate': 0.1, 'max_depth': 6, 'n_estimators': 100}\n",
      "0.979744 (0.009515) with: {'learning_rate': 0.1, 'max_depth': 6, 'n_estimators': 200}\n",
      "0.979744 (0.009515) with: {'learning_rate': 0.1, 'max_depth': 6, 'n_estimators': 150}\n",
      "0.979744 (0.009515) with: {'learning_rate': 0.1, 'max_depth': 6, 'n_estimators': 250}\n",
      "0.979370 (0.009373) with: {'learning_rate': 0.1, 'max_depth': 6, 'n_estimators': 300}\n",
      "0.980119 (0.009785) with: {'learning_rate': 0.1, 'max_depth': 7, 'n_estimators': 50}\n",
      "0.980119 (0.009785) with: {'learning_rate': 0.1, 'max_depth': 7, 'n_estimators': 100}\n",
      "0.979744 (0.009515) with: {'learning_rate': 0.1, 'max_depth': 7, 'n_estimators': 200}\n",
      "0.979744 (0.009515) with: {'learning_rate': 0.1, 'max_depth': 7, 'n_estimators': 150}\n",
      "0.979370 (0.009373) with: {'learning_rate': 0.1, 'max_depth': 7, 'n_estimators': 250}\n",
      "0.978994 (0.008903) with: {'learning_rate': 0.1, 'max_depth': 7, 'n_estimators': 300}\n",
      "0.980119 (0.009785) with: {'learning_rate': 0.1, 'max_depth': 8, 'n_estimators': 50}\n",
      "0.980119 (0.009785) with: {'learning_rate': 0.1, 'max_depth': 8, 'n_estimators': 100}\n",
      "0.979744 (0.009515) with: {'learning_rate': 0.1, 'max_depth': 8, 'n_estimators': 200}\n",
      "0.979744 (0.009515) with: {'learning_rate': 0.1, 'max_depth': 8, 'n_estimators': 150}\n",
      "0.979368 (0.009068) with: {'learning_rate': 0.1, 'max_depth': 8, 'n_estimators': 250}\n",
      "0.979368 (0.008259) with: {'learning_rate': 0.1, 'max_depth': 8, 'n_estimators': 300}\n",
      "0.980119 (0.009785) with: {'learning_rate': 0.1, 'max_depth': 9, 'n_estimators': 50}\n",
      "0.980119 (0.009785) with: {'learning_rate': 0.1, 'max_depth': 9, 'n_estimators': 100}\n",
      "0.978618 (0.008557) with: {'learning_rate': 0.1, 'max_depth': 9, 'n_estimators': 200}\n",
      "0.979744 (0.009515) with: {'learning_rate': 0.1, 'max_depth': 9, 'n_estimators': 150}\n",
      "0.978618 (0.008557) with: {'learning_rate': 0.1, 'max_depth': 9, 'n_estimators': 250}\n",
      "0.978618 (0.008557) with: {'learning_rate': 0.1, 'max_depth': 9, 'n_estimators': 300}\n",
      "0.980119 (0.009785) with: {'learning_rate': 0.1, 'max_depth': 10, 'n_estimators': 50}\n",
      "0.980119 (0.009785) with: {'learning_rate': 0.1, 'max_depth': 10, 'n_estimators': 100}\n",
      "0.978994 (0.008903) with: {'learning_rate': 0.1, 'max_depth': 10, 'n_estimators': 200}\n",
      "0.979368 (0.009068) with: {'learning_rate': 0.1, 'max_depth': 10, 'n_estimators': 150}\n",
      "0.978994 (0.008903) with: {'learning_rate': 0.1, 'max_depth': 10, 'n_estimators': 250}\n",
      "0.978619 (0.007319) with: {'learning_rate': 0.1, 'max_depth': 10, 'n_estimators': 300}\n",
      "0.900594 (0.015514) with: {'learning_rate': 0.15, 'max_depth': 1, 'n_estimators': 50}\n",
      "0.921236 (0.014581) with: {'learning_rate': 0.15, 'max_depth': 1, 'n_estimators': 100}\n",
      "0.930241 (0.013275) with: {'learning_rate': 0.15, 'max_depth': 1, 'n_estimators': 200}\n",
      "0.929868 (0.013563) with: {'learning_rate': 0.15, 'max_depth': 1, 'n_estimators': 150}\n",
      "0.929865 (0.013472) with: {'learning_rate': 0.15, 'max_depth': 1, 'n_estimators': 250}\n",
      "0.930617 (0.013998) with: {'learning_rate': 0.15, 'max_depth': 1, 'n_estimators': 300}\n",
      "0.977497 (0.009626) with: {'learning_rate': 0.15, 'max_depth': 2, 'n_estimators': 50}\n",
      "0.978622 (0.008715) with: {'learning_rate': 0.15, 'max_depth': 2, 'n_estimators': 100}\n",
      "0.979746 (0.008743) with: {'learning_rate': 0.15, 'max_depth': 2, 'n_estimators': 200}\n",
      "0.979371 (0.008588) with: {'learning_rate': 0.15, 'max_depth': 2, 'n_estimators': 150}\n",
      "0.979746 (0.008743) with: {'learning_rate': 0.15, 'max_depth': 2, 'n_estimators': 250}\n",
      "0.979746 (0.008743) with: {'learning_rate': 0.15, 'max_depth': 2, 'n_estimators': 300}\n",
      "0.980493 (0.009157) with: {'learning_rate': 0.15, 'max_depth': 3, 'n_estimators': 50}\n",
      "0.980493 (0.009157) with: {'learning_rate': 0.15, 'max_depth': 3, 'n_estimators': 100}\n",
      "0.980119 (0.008884) with: {'learning_rate': 0.15, 'max_depth': 3, 'n_estimators': 200}\n",
      "0.980119 (0.008884) with: {'learning_rate': 0.15, 'max_depth': 3, 'n_estimators': 150}\n",
      "0.980493 (0.009157) with: {'learning_rate': 0.15, 'max_depth': 3, 'n_estimators': 250}\n",
      "0.980493 (0.009157) with: {'learning_rate': 0.15, 'max_depth': 3, 'n_estimators': 300}\n",
      "0.980869 (0.008945) with: {'learning_rate': 0.15, 'max_depth': 4, 'n_estimators': 50}\n",
      "0.980869 (0.008945) with: {'learning_rate': 0.15, 'max_depth': 4, 'n_estimators': 100}\n",
      "0.980869 (0.008945) with: {'learning_rate': 0.15, 'max_depth': 4, 'n_estimators': 200}\n",
      "0.980869 (0.008945) with: {'learning_rate': 0.15, 'max_depth': 4, 'n_estimators': 150}\n",
      "0.980869 (0.008945) with: {'learning_rate': 0.15, 'max_depth': 4, 'n_estimators': 250}\n",
      "0.980495 (0.008681) with: {'learning_rate': 0.15, 'max_depth': 4, 'n_estimators': 300}\n",
      "0.980119 (0.009785) with: {'learning_rate': 0.15, 'max_depth': 5, 'n_estimators': 50}\n",
      "0.979744 (0.009515) with: {'learning_rate': 0.15, 'max_depth': 5, 'n_estimators': 100}\n",
      "0.979368 (0.009068) with: {'learning_rate': 0.15, 'max_depth': 5, 'n_estimators': 200}\n",
      "0.979370 (0.009812) with: {'learning_rate': 0.15, 'max_depth': 5, 'n_estimators': 150}\n",
      "0.978994 (0.008417) with: {'learning_rate': 0.15, 'max_depth': 5, 'n_estimators': 250}\n",
      "0.978619 (0.008719) with: {'learning_rate': 0.15, 'max_depth': 5, 'n_estimators': 300}\n",
      "0.980119 (0.009785) with: {'learning_rate': 0.15, 'max_depth': 6, 'n_estimators': 50}\n",
      "0.979744 (0.009515) with: {'learning_rate': 0.15, 'max_depth': 6, 'n_estimators': 100}\n",
      "0.979370 (0.009373) with: {'learning_rate': 0.15, 'max_depth': 6, 'n_estimators': 200}\n",
      "0.979744 (0.009515) with: {'learning_rate': 0.15, 'max_depth': 6, 'n_estimators': 150}\n",
      "0.979368 (0.009068) with: {'learning_rate': 0.15, 'max_depth': 6, 'n_estimators': 250}\n",
      "0.978994 (0.008077) with: {'learning_rate': 0.15, 'max_depth': 6, 'n_estimators': 300}\n",
      "0.980119 (0.009785) with: {'learning_rate': 0.15, 'max_depth': 7, 'n_estimators': 50}\n",
      "0.979744 (0.009515) with: {'learning_rate': 0.15, 'max_depth': 7, 'n_estimators': 100}\n",
      "0.977869 (0.008117) with: {'learning_rate': 0.15, 'max_depth': 7, 'n_estimators': 200}\n",
      "0.978994 (0.008903) with: {'learning_rate': 0.15, 'max_depth': 7, 'n_estimators': 150}\n",
      "0.977869 (0.008117) with: {'learning_rate': 0.15, 'max_depth': 7, 'n_estimators': 250}\n",
      "0.977867 (0.007769) with: {'learning_rate': 0.15, 'max_depth': 7, 'n_estimators': 300}\n",
      "0.980119 (0.009785) with: {'learning_rate': 0.15, 'max_depth': 8, 'n_estimators': 50}\n",
      "0.979368 (0.009068) with: {'learning_rate': 0.15, 'max_depth': 8, 'n_estimators': 100}\n",
      "0.978243 (0.008348) with: {'learning_rate': 0.15, 'max_depth': 8, 'n_estimators': 200}\n",
      "0.978243 (0.008348) with: {'learning_rate': 0.15, 'max_depth': 8, 'n_estimators': 150}\n",
      "0.978243 (0.008348) with: {'learning_rate': 0.15, 'max_depth': 8, 'n_estimators': 250}\n",
      "0.978618 (0.007694) with: {'learning_rate': 0.15, 'max_depth': 8, 'n_estimators': 300}\n",
      "0.980119 (0.009785) with: {'learning_rate': 0.15, 'max_depth': 9, 'n_estimators': 50}\n",
      "0.979368 (0.009068) with: {'learning_rate': 0.15, 'max_depth': 9, 'n_estimators': 100}\n",
      "0.978243 (0.008348) with: {'learning_rate': 0.15, 'max_depth': 9, 'n_estimators': 200}\n",
      "0.978243 (0.008348) with: {'learning_rate': 0.15, 'max_depth': 9, 'n_estimators': 150}\n",
      "0.978243 (0.008348) with: {'learning_rate': 0.15, 'max_depth': 9, 'n_estimators': 250}\n",
      "0.978243 (0.008348) with: {'learning_rate': 0.15, 'max_depth': 9, 'n_estimators': 300}\n",
      "0.980119 (0.009785) with: {'learning_rate': 0.15, 'max_depth': 10, 'n_estimators': 50}\n",
      "0.978992 (0.008745) with: {'learning_rate': 0.15, 'max_depth': 10, 'n_estimators': 100}\n",
      "0.978994 (0.008903) with: {'learning_rate': 0.15, 'max_depth': 10, 'n_estimators': 200}\n",
      "0.978994 (0.008903) with: {'learning_rate': 0.15, 'max_depth': 10, 'n_estimators': 150}\n",
      "0.978994 (0.008903) with: {'learning_rate': 0.15, 'max_depth': 10, 'n_estimators': 250}\n",
      "0.978994 (0.008903) with: {'learning_rate': 0.15, 'max_depth': 10, 'n_estimators': 300}\n",
      "0.908106 (0.014415) with: {'learning_rate': 0.2, 'max_depth': 1, 'n_estimators': 50}\n",
      "0.929494 (0.014438) with: {'learning_rate': 0.2, 'max_depth': 1, 'n_estimators': 100}\n",
      "0.929865 (0.013472) with: {'learning_rate': 0.2, 'max_depth': 1, 'n_estimators': 200}\n",
      "0.930241 (0.013061) with: {'learning_rate': 0.2, 'max_depth': 1, 'n_estimators': 150}\n",
      "0.930993 (0.014189) with: {'learning_rate': 0.2, 'max_depth': 1, 'n_estimators': 250}\n",
      "0.929865 (0.013052) with: {'learning_rate': 0.2, 'max_depth': 1, 'n_estimators': 300}\n",
      "0.978622 (0.008387) with: {'learning_rate': 0.2, 'max_depth': 2, 'n_estimators': 50}\n",
      "0.978997 (0.009055) with: {'learning_rate': 0.2, 'max_depth': 2, 'n_estimators': 100}\n",
      "0.979746 (0.008743) with: {'learning_rate': 0.2, 'max_depth': 2, 'n_estimators': 200}\n",
      "0.980120 (0.009341) with: {'learning_rate': 0.2, 'max_depth': 2, 'n_estimators': 150}\n",
      "0.980120 (0.009341) with: {'learning_rate': 0.2, 'max_depth': 2, 'n_estimators': 250}\n",
      "0.980495 (0.009601) with: {'learning_rate': 0.2, 'max_depth': 2, 'n_estimators': 300}\n",
      "0.980495 (0.009601) with: {'learning_rate': 0.2, 'max_depth': 3, 'n_estimators': 50}\n",
      "0.980495 (0.008841) with: {'learning_rate': 0.2, 'max_depth': 3, 'n_estimators': 100}\n",
      "0.980119 (0.009785) with: {'learning_rate': 0.2, 'max_depth': 3, 'n_estimators': 200}\n",
      "0.980120 (0.009490) with: {'learning_rate': 0.2, 'max_depth': 3, 'n_estimators': 150}\n",
      "0.980869 (0.008945) with: {'learning_rate': 0.2, 'max_depth': 3, 'n_estimators': 250}\n",
      "0.980869 (0.008945) with: {'learning_rate': 0.2, 'max_depth': 3, 'n_estimators': 300}\n",
      "0.980869 (0.008945) with: {'learning_rate': 0.2, 'max_depth': 4, 'n_estimators': 50}\n",
      "0.980869 (0.008945) with: {'learning_rate': 0.2, 'max_depth': 4, 'n_estimators': 100}\n",
      "0.980495 (0.008681) with: {'learning_rate': 0.2, 'max_depth': 4, 'n_estimators': 200}\n",
      "0.980495 (0.008681) with: {'learning_rate': 0.2, 'max_depth': 4, 'n_estimators': 150}\n",
      "0.979746 (0.007900) with: {'learning_rate': 0.2, 'max_depth': 4, 'n_estimators': 250}\n",
      "0.978619 (0.006283) with: {'learning_rate': 0.2, 'max_depth': 4, 'n_estimators': 300}\n",
      "0.980119 (0.009785) with: {'learning_rate': 0.2, 'max_depth': 5, 'n_estimators': 50}\n",
      "0.979370 (0.009812) with: {'learning_rate': 0.2, 'max_depth': 5, 'n_estimators': 100}\n",
      "0.978995 (0.008745) with: {'learning_rate': 0.2, 'max_depth': 5, 'n_estimators': 200}\n",
      "0.979370 (0.008913) with: {'learning_rate': 0.2, 'max_depth': 5, 'n_estimators': 150}\n",
      "0.977869 (0.008786) with: {'learning_rate': 0.2, 'max_depth': 5, 'n_estimators': 250}\n",
      "0.977869 (0.008786) with: {'learning_rate': 0.2, 'max_depth': 5, 'n_estimators': 300}\n",
      "0.980119 (0.009785) with: {'learning_rate': 0.2, 'max_depth': 6, 'n_estimators': 50}\n",
      "0.979744 (0.009515) with: {'learning_rate': 0.2, 'max_depth': 6, 'n_estimators': 100}\n",
      "0.977870 (0.008287) with: {'learning_rate': 0.2, 'max_depth': 6, 'n_estimators': 200}\n",
      "0.978994 (0.008903) with: {'learning_rate': 0.2, 'max_depth': 6, 'n_estimators': 150}\n",
      "0.977870 (0.008287) with: {'learning_rate': 0.2, 'max_depth': 6, 'n_estimators': 250}\n",
      "0.977870 (0.007762) with: {'learning_rate': 0.2, 'max_depth': 6, 'n_estimators': 300}\n",
      "0.980119 (0.009785) with: {'learning_rate': 0.2, 'max_depth': 7, 'n_estimators': 50}\n",
      "0.980119 (0.009785) with: {'learning_rate': 0.2, 'max_depth': 7, 'n_estimators': 100}\n",
      "0.978994 (0.008077) with: {'learning_rate': 0.2, 'max_depth': 7, 'n_estimators': 200}\n",
      "0.978619 (0.008719) with: {'learning_rate': 0.2, 'max_depth': 7, 'n_estimators': 150}\n",
      "0.978243 (0.007652) with: {'learning_rate': 0.2, 'max_depth': 7, 'n_estimators': 250}\n",
      "0.977869 (0.007009) with: {'learning_rate': 0.2, 'max_depth': 7, 'n_estimators': 300}\n",
      "0.980119 (0.009785) with: {'learning_rate': 0.2, 'max_depth': 8, 'n_estimators': 50}\n",
      "0.979370 (0.009373) with: {'learning_rate': 0.2, 'max_depth': 8, 'n_estimators': 100}\n",
      "0.978619 (0.008719) with: {'learning_rate': 0.2, 'max_depth': 8, 'n_estimators': 200}\n",
      "0.978243 (0.008348) with: {'learning_rate': 0.2, 'max_depth': 8, 'n_estimators': 150}\n",
      "0.977869 (0.008293) with: {'learning_rate': 0.2, 'max_depth': 8, 'n_estimators': 250}\n",
      "0.978243 (0.007652) with: {'learning_rate': 0.2, 'max_depth': 8, 'n_estimators': 300}\n",
      "0.979743 (0.009366) with: {'learning_rate': 0.2, 'max_depth': 9, 'n_estimators': 50}\n",
      "0.978994 (0.008903) with: {'learning_rate': 0.2, 'max_depth': 9, 'n_estimators': 100}\n",
      "0.978616 (0.008729) with: {'learning_rate': 0.2, 'max_depth': 9, 'n_estimators': 200}\n",
      "0.978992 (0.008422) with: {'learning_rate': 0.2, 'max_depth': 9, 'n_estimators': 150}\n",
      "0.977867 (0.008126) with: {'learning_rate': 0.2, 'max_depth': 9, 'n_estimators': 250}\n",
      "0.977493 (0.007870) with: {'learning_rate': 0.2, 'max_depth': 9, 'n_estimators': 300}\n",
      "0.980119 (0.009785) with: {'learning_rate': 0.2, 'max_depth': 10, 'n_estimators': 50}\n",
      "0.978994 (0.008903) with: {'learning_rate': 0.2, 'max_depth': 10, 'n_estimators': 100}\n",
      "0.978618 (0.008397) with: {'learning_rate': 0.2, 'max_depth': 10, 'n_estimators': 200}\n",
      "0.978618 (0.009194) with: {'learning_rate': 0.2, 'max_depth': 10, 'n_estimators': 150}\n",
      "0.978618 (0.008397) with: {'learning_rate': 0.2, 'max_depth': 10, 'n_estimators': 250}\n",
      "0.978243 (0.007652) with: {'learning_rate': 0.2, 'max_depth': 10, 'n_estimators': 300}\n",
      "0.918987 (0.013173) with: {'learning_rate': 0.25, 'max_depth': 1, 'n_estimators': 50}\n",
      "0.930992 (0.013379) with: {'learning_rate': 0.25, 'max_depth': 1, 'n_estimators': 100}\n",
      "0.929867 (0.014078) with: {'learning_rate': 0.25, 'max_depth': 1, 'n_estimators': 200}\n",
      "0.929865 (0.013472) with: {'learning_rate': 0.25, 'max_depth': 1, 'n_estimators': 150}\n",
      "0.930617 (0.012955) with: {'learning_rate': 0.25, 'max_depth': 1, 'n_estimators': 250}\n",
      "0.929865 (0.011075) with: {'learning_rate': 0.25, 'max_depth': 1, 'n_estimators': 300}\n",
      "0.979371 (0.008588) with: {'learning_rate': 0.25, 'max_depth': 2, 'n_estimators': 50}\n",
      "0.979371 (0.008588) with: {'learning_rate': 0.25, 'max_depth': 2, 'n_estimators': 100}\n",
      "0.980120 (0.009341) with: {'learning_rate': 0.25, 'max_depth': 2, 'n_estimators': 200}\n",
      "0.980120 (0.009036) with: {'learning_rate': 0.25, 'max_depth': 2, 'n_estimators': 150}\n",
      "0.980495 (0.009601) with: {'learning_rate': 0.25, 'max_depth': 2, 'n_estimators': 250}\n",
      "0.979746 (0.010084) with: {'learning_rate': 0.25, 'max_depth': 2, 'n_estimators': 300}\n",
      "0.980120 (0.010339) with: {'learning_rate': 0.25, 'max_depth': 3, 'n_estimators': 50}\n",
      "0.980869 (0.008945) with: {'learning_rate': 0.25, 'max_depth': 3, 'n_estimators': 100}\n",
      "0.980869 (0.008945) with: {'learning_rate': 0.25, 'max_depth': 3, 'n_estimators': 200}\n",
      "0.980120 (0.009036) with: {'learning_rate': 0.25, 'max_depth': 3, 'n_estimators': 150}\n",
      "0.980493 (0.009310) with: {'learning_rate': 0.25, 'max_depth': 3, 'n_estimators': 250}\n",
      "0.980493 (0.009310) with: {'learning_rate': 0.25, 'max_depth': 3, 'n_estimators': 300}\n",
      "0.980869 (0.008945) with: {'learning_rate': 0.25, 'max_depth': 4, 'n_estimators': 50}\n",
      "0.980869 (0.008945) with: {'learning_rate': 0.25, 'max_depth': 4, 'n_estimators': 100}\n",
      "0.980120 (0.008557) with: {'learning_rate': 0.25, 'max_depth': 4, 'n_estimators': 200}\n",
      "0.980495 (0.008681) with: {'learning_rate': 0.25, 'max_depth': 4, 'n_estimators': 150}\n",
      "0.979744 (0.008907) with: {'learning_rate': 0.25, 'max_depth': 4, 'n_estimators': 250}\n",
      "0.978245 (0.006874) with: {'learning_rate': 0.25, 'max_depth': 4, 'n_estimators': 300}\n",
      "0.980119 (0.009785) with: {'learning_rate': 0.25, 'max_depth': 5, 'n_estimators': 50}\n",
      "0.979744 (0.009515) with: {'learning_rate': 0.25, 'max_depth': 5, 'n_estimators': 100}\n",
      "0.978994 (0.008903) with: {'learning_rate': 0.25, 'max_depth': 5, 'n_estimators': 200}\n",
      "0.979370 (0.009373) with: {'learning_rate': 0.25, 'max_depth': 5, 'n_estimators': 150}\n",
      "0.978243 (0.009306) with: {'learning_rate': 0.25, 'max_depth': 5, 'n_estimators': 250}\n",
      "0.977494 (0.008042) with: {'learning_rate': 0.25, 'max_depth': 5, 'n_estimators': 300}\n",
      "0.980119 (0.009785) with: {'learning_rate': 0.25, 'max_depth': 6, 'n_estimators': 50}\n",
      "0.979368 (0.009068) with: {'learning_rate': 0.25, 'max_depth': 6, 'n_estimators': 100}\n",
      "0.978618 (0.008397) with: {'learning_rate': 0.25, 'max_depth': 6, 'n_estimators': 200}\n",
      "0.978619 (0.008049) with: {'learning_rate': 0.25, 'max_depth': 6, 'n_estimators': 150}\n",
      "0.977869 (0.007947) with: {'learning_rate': 0.25, 'max_depth': 6, 'n_estimators': 250}\n",
      "0.977867 (0.007774) with: {'learning_rate': 0.25, 'max_depth': 6, 'n_estimators': 300}\n",
      "0.980119 (0.009785) with: {'learning_rate': 0.25, 'max_depth': 7, 'n_estimators': 50}\n",
      "0.979370 (0.009812) with: {'learning_rate': 0.25, 'max_depth': 7, 'n_estimators': 100}\n",
      "0.978245 (0.007646) with: {'learning_rate': 0.25, 'max_depth': 7, 'n_estimators': 200}\n",
      "0.978994 (0.008582) with: {'learning_rate': 0.25, 'max_depth': 7, 'n_estimators': 150}\n",
      "0.977870 (0.007762) with: {'learning_rate': 0.25, 'max_depth': 7, 'n_estimators': 250}\n",
      "0.978246 (0.007641) with: {'learning_rate': 0.25, 'max_depth': 7, 'n_estimators': 300}\n",
      "0.980117 (0.008724) with: {'learning_rate': 0.25, 'max_depth': 8, 'n_estimators': 50}\n",
      "0.978619 (0.008391) with: {'learning_rate': 0.25, 'max_depth': 8, 'n_estimators': 100}\n",
      "0.977496 (0.006910) with: {'learning_rate': 0.25, 'max_depth': 8, 'n_estimators': 200}\n",
      "0.977870 (0.007580) with: {'learning_rate': 0.25, 'max_depth': 8, 'n_estimators': 150}\n",
      "0.977121 (0.006999) with: {'learning_rate': 0.25, 'max_depth': 8, 'n_estimators': 250}\n",
      "0.977121 (0.006999) with: {'learning_rate': 0.25, 'max_depth': 8, 'n_estimators': 300}\n",
      "0.979368 (0.009068) with: {'learning_rate': 0.25, 'max_depth': 9, 'n_estimators': 50}\n",
      "0.978243 (0.007828) with: {'learning_rate': 0.25, 'max_depth': 9, 'n_estimators': 100}\n",
      "0.978619 (0.007319) with: {'learning_rate': 0.25, 'max_depth': 9, 'n_estimators': 200}\n",
      "0.978619 (0.007319) with: {'learning_rate': 0.25, 'max_depth': 9, 'n_estimators': 150}\n",
      "0.978243 (0.007465) with: {'learning_rate': 0.25, 'max_depth': 9, 'n_estimators': 250}\n",
      "0.978619 (0.007319) with: {'learning_rate': 0.25, 'max_depth': 9, 'n_estimators': 300}\n",
      "0.978992 (0.008745) with: {'learning_rate': 0.25, 'max_depth': 10, 'n_estimators': 50}\n",
      "0.978618 (0.008557) with: {'learning_rate': 0.25, 'max_depth': 10, 'n_estimators': 100}\n",
      "0.977494 (0.008215) with: {'learning_rate': 0.25, 'max_depth': 10, 'n_estimators': 200}\n",
      "0.978245 (0.008677) with: {'learning_rate': 0.25, 'max_depth': 10, 'n_estimators': 150}\n",
      "0.977118 (0.008294) with: {'learning_rate': 0.25, 'max_depth': 10, 'n_estimators': 250}\n",
      "0.977118 (0.008294) with: {'learning_rate': 0.25, 'max_depth': 10, 'n_estimators': 300}\n",
      "0.924606 (0.014064) with: {'learning_rate': 0.3, 'max_depth': 1, 'n_estimators': 50}\n",
      "0.930241 (0.013381) with: {'learning_rate': 0.3, 'max_depth': 1, 'n_estimators': 100}\n",
      "0.929868 (0.012486) with: {'learning_rate': 0.3, 'max_depth': 1, 'n_estimators': 200}\n",
      "0.930243 (0.013788) with: {'learning_rate': 0.3, 'max_depth': 1, 'n_estimators': 150}\n",
      "0.930993 (0.011576) with: {'learning_rate': 0.3, 'max_depth': 1, 'n_estimators': 250}\n",
      "0.929118 (0.012424) with: {'learning_rate': 0.3, 'max_depth': 1, 'n_estimators': 300}\n",
      "0.978997 (0.008578) with: {'learning_rate': 0.3, 'max_depth': 2, 'n_estimators': 50}\n",
      "0.979746 (0.008743) with: {'learning_rate': 0.3, 'max_depth': 2, 'n_estimators': 100}\n",
      "0.979370 (0.008913) with: {'learning_rate': 0.3, 'max_depth': 2, 'n_estimators': 200}\n",
      "0.979370 (0.008913) with: {'learning_rate': 0.3, 'max_depth': 2, 'n_estimators': 150}\n",
      "0.979370 (0.008913) with: {'learning_rate': 0.3, 'max_depth': 2, 'n_estimators': 250}\n",
      "0.979744 (0.009515) with: {'learning_rate': 0.3, 'max_depth': 2, 'n_estimators': 300}\n",
      "0.980119 (0.009785) with: {'learning_rate': 0.3, 'max_depth': 3, 'n_estimators': 50}\n",
      "0.980868 (0.009408) with: {'learning_rate': 0.3, 'max_depth': 3, 'n_estimators': 100}\n",
      "0.980869 (0.008945) with: {'learning_rate': 0.3, 'max_depth': 3, 'n_estimators': 200}\n",
      "0.980869 (0.008945) with: {'learning_rate': 0.3, 'max_depth': 3, 'n_estimators': 150}\n",
      "0.979368 (0.008428) with: {'learning_rate': 0.3, 'max_depth': 3, 'n_estimators': 250}\n",
      "0.978994 (0.008250) with: {'learning_rate': 0.3, 'max_depth': 3, 'n_estimators': 300}\n",
      "0.980869 (0.008945) with: {'learning_rate': 0.3, 'max_depth': 4, 'n_estimators': 50}\n",
      "0.980495 (0.008681) with: {'learning_rate': 0.3, 'max_depth': 4, 'n_estimators': 100}\n",
      "0.978245 (0.008179) with: {'learning_rate': 0.3, 'max_depth': 4, 'n_estimators': 200}\n",
      "0.980495 (0.008681) with: {'learning_rate': 0.3, 'max_depth': 4, 'n_estimators': 150}\n",
      "0.978245 (0.007271) with: {'learning_rate': 0.3, 'max_depth': 4, 'n_estimators': 250}\n",
      "0.978245 (0.007271) with: {'learning_rate': 0.3, 'max_depth': 4, 'n_estimators': 300}\n",
      "0.979744 (0.009515) with: {'learning_rate': 0.3, 'max_depth': 5, 'n_estimators': 50}\n",
      "0.979370 (0.009812) with: {'learning_rate': 0.3, 'max_depth': 5, 'n_estimators': 100}\n",
      "0.977870 (0.008786) with: {'learning_rate': 0.3, 'max_depth': 5, 'n_estimators': 200}\n",
      "0.978995 (0.009659) with: {'learning_rate': 0.3, 'max_depth': 5, 'n_estimators': 150}\n",
      "0.977120 (0.007944) with: {'learning_rate': 0.3, 'max_depth': 5, 'n_estimators': 250}\n",
      "0.977120 (0.007395) with: {'learning_rate': 0.3, 'max_depth': 5, 'n_estimators': 300}\n",
      "0.980119 (0.009785) with: {'learning_rate': 0.3, 'max_depth': 6, 'n_estimators': 50}\n",
      "0.978994 (0.008903) with: {'learning_rate': 0.3, 'max_depth': 6, 'n_estimators': 100}\n",
      "0.977494 (0.007685) with: {'learning_rate': 0.3, 'max_depth': 6, 'n_estimators': 200}\n",
      "0.978245 (0.008004) with: {'learning_rate': 0.3, 'max_depth': 6, 'n_estimators': 150}\n",
      "0.977494 (0.007117) with: {'learning_rate': 0.3, 'max_depth': 6, 'n_estimators': 250}\n",
      "0.977118 (0.008295) with: {'learning_rate': 0.3, 'max_depth': 6, 'n_estimators': 300}\n",
      "0.979743 (0.009366) with: {'learning_rate': 0.3, 'max_depth': 7, 'n_estimators': 50}\n",
      "0.979368 (0.008259) with: {'learning_rate': 0.3, 'max_depth': 7, 'n_estimators': 100}\n",
      "0.978245 (0.007270) with: {'learning_rate': 0.3, 'max_depth': 7, 'n_estimators': 200}\n",
      "0.978245 (0.007646) with: {'learning_rate': 0.3, 'max_depth': 7, 'n_estimators': 150}\n",
      "0.978243 (0.007465) with: {'learning_rate': 0.3, 'max_depth': 7, 'n_estimators': 250}\n",
      "0.978243 (0.007465) with: {'learning_rate': 0.3, 'max_depth': 7, 'n_estimators': 300}\n",
      "0.979744 (0.009515) with: {'learning_rate': 0.3, 'max_depth': 8, 'n_estimators': 50}\n",
      "0.977120 (0.005913) with: {'learning_rate': 0.3, 'max_depth': 8, 'n_estimators': 100}\n",
      "0.977494 (0.006709) with: {'learning_rate': 0.3, 'max_depth': 8, 'n_estimators': 200}\n",
      "0.977494 (0.006709) with: {'learning_rate': 0.3, 'max_depth': 8, 'n_estimators': 150}\n",
      "0.977494 (0.006709) with: {'learning_rate': 0.3, 'max_depth': 8, 'n_estimators': 250}\n",
      "0.977494 (0.006709) with: {'learning_rate': 0.3, 'max_depth': 8, 'n_estimators': 300}\n",
      "0.979368 (0.009068) with: {'learning_rate': 0.3, 'max_depth': 9, 'n_estimators': 50}\n",
      "0.978245 (0.008677) with: {'learning_rate': 0.3, 'max_depth': 9, 'n_estimators': 100}\n",
      "0.977869 (0.007586) with: {'learning_rate': 0.3, 'max_depth': 9, 'n_estimators': 200}\n",
      "0.978245 (0.007270) with: {'learning_rate': 0.3, 'max_depth': 9, 'n_estimators': 150}\n",
      "0.977869 (0.007586) with: {'learning_rate': 0.3, 'max_depth': 9, 'n_estimators': 250}\n",
      "0.977493 (0.007872) with: {'learning_rate': 0.3, 'max_depth': 9, 'n_estimators': 300}\n",
      "0.978992 (0.008745) with: {'learning_rate': 0.3, 'max_depth': 10, 'n_estimators': 50}\n",
      "0.977867 (0.008123) with: {'learning_rate': 0.3, 'max_depth': 10, 'n_estimators': 100}\n",
      "0.977491 (0.007508) with: {'learning_rate': 0.3, 'max_depth': 10, 'n_estimators': 200}\n",
      "0.978243 (0.006874) with: {'learning_rate': 0.3, 'max_depth': 10, 'n_estimators': 150}\n",
      "0.977866 (0.007592) with: {'learning_rate': 0.3, 'max_depth': 10, 'n_estimators': 250}\n",
      "0.977116 (0.007774) with: {'learning_rate': 0.3, 'max_depth': 10, 'n_estimators': 300}\n"
     ]
    }
   ],
   "source": [
    "means = grid_result.cv_results_['mean_test_score']\n",
    "stds = grid_result.cv_results_['std_test_score']\n",
    "params = grid_result.cv_results_['params']\n",
    "for mean, stdev, param in zip(means, stds, params):\n",
    "    print(\"%f (%f) with: %r\" % (mean, stdev, param))"
   ]
  },
  {
   "cell_type": "code",
   "execution_count": 100,
   "id": "2be4b5b7",
   "metadata": {},
   "outputs": [
    {
     "data": {
      "text/plain": [
       "{'learning_rate': 0.05, 'max_depth': 3, 'n_estimators': 300}"
      ]
     },
     "execution_count": 100,
     "metadata": {},
     "output_type": "execute_result"
    }
   ],
   "source": [
    "grid_result.best_params_"
   ]
  },
  {
   "cell_type": "code",
   "execution_count": null,
   "id": "6a889765",
   "metadata": {},
   "outputs": [],
   "source": []
  },
  {
   "cell_type": "code",
   "execution_count": 101,
   "id": "a54b5d61",
   "metadata": {},
   "outputs": [
    {
     "name": "stdout",
     "output_type": "stream",
     "text": [
      "Confusion Matrix:\n",
      "[[569   1]\n",
      " [ 20  77]]\n",
      "Classification Report\n",
      "              precision    recall  f1-score   support\n",
      "\n",
      "           0       0.97      1.00      0.98       570\n",
      "           1       0.99      0.79      0.88        97\n",
      "\n",
      "    accuracy                           0.97       667\n",
      "   macro avg       0.98      0.90      0.93       667\n",
      "weighted avg       0.97      0.97      0.97       667\n",
      "\n"
     ]
    }
   ],
   "source": [
    "xgb_clf_imb = XGBClassifier(n_estimators=300, max_depth=3,learning_rate= 0.05)\n",
    "xgb_clf_imb.fit(train_x,train_y)\n",
    "predictions = xgb_clf_imb.predict(test_x)\n",
    "\n",
    "print(\"Confusion Matrix:\")\n",
    "print(confusion_matrix(test_y, predictions))\n",
    "\n",
    "print(\"Classification Report\")\n",
    "print(classification_report(test_y, predictions))\n"
   ]
  },
  {
   "cell_type": "code",
   "execution_count": 102,
   "id": "430dd7ef",
   "metadata": {
    "scrolled": true
   },
   "outputs": [
    {
     "name": "stdout",
     "output_type": "stream",
     "text": [
      "Confusion Matrix:\n",
      "[[2280    0]\n",
      " [  50  336]]\n",
      "Classification Report\n",
      "              precision    recall  f1-score   support\n",
      "\n",
      "           0       0.98      1.00      0.99      2280\n",
      "           1       1.00      0.87      0.93       386\n",
      "\n",
      "    accuracy                           0.98      2666\n",
      "   macro avg       0.99      0.94      0.96      2666\n",
      "weighted avg       0.98      0.98      0.98      2666\n",
      "\n"
     ]
    }
   ],
   "source": [
    "predictions_train = xgb_clf_imb.predict(train_x)\n",
    "\n",
    "print(\"Confusion Matrix:\")\n",
    "print(confusion_matrix(train_y, predictions_train))\n",
    "\n",
    "print(\"Classification Report\")\n",
    "print(classification_report(train_y, predictions_train))\n"
   ]
  },
  {
   "cell_type": "code",
   "execution_count": 103,
   "id": "97d5117e",
   "metadata": {},
   "outputs": [
    {
     "data": {
      "image/png": "[encoded data removed]",
      "text/plain": [
       "<Figure size 432x288 with 1 Axes>"
      ]
     },
     "metadata": {
      "needs_background": "light"
     },
     "output_type": "display_data"
    },
    {
     "data": {
      "text/plain": [
       "<Figure size 1440x1800 with 0 Axes>"
      ]
     },
     "metadata": {},
     "output_type": "display_data"
    }
   ],
   "source": [
    "import xgboost as xgb\n",
    "\n",
    "xgb.plot_importance(xgb_clf_imb)\n",
    "plt.figure(figsize = (20, 25))\n",
    "plt.show()"
   ]
  },
  {
   "cell_type": "code",
   "execution_count": 104,
   "id": "0f72ba63",
   "metadata": {},
   "outputs": [
    {
     "data": {
      "image/png": "[encoded data removed]",
      "text/plain": [
       "<Figure size 2160x2160 with 1 Axes>"
      ]
     },
     "metadata": {
      "needs_background": "light"
     },
     "output_type": "display_data"
    }
   ],
   "source": [
    "fig, ax = plt.subplots(figsize=(30, 30))\n",
    "xgb.plot_tree(xgb_clf_imb, num_trees=4, ax=ax)\n",
    "plt.show()"
   ]
  },
  {
   "cell_type": "markdown",
   "id": "ededfada",
   "metadata": {},
   "source": [
    "## SVM classifier"
   ]
  },
  {
   "cell_type": "code",
   "execution_count": 106,
   "id": "d1453bb1",
   "metadata": {},
   "outputs": [],
   "source": [
    "model_svm = svm.SVC(kernel='poly',gamma='auto', C=2)"
   ]
  },
  {
   "cell_type": "code",
   "execution_count": 107,
   "id": "c79e4e08",
   "metadata": {},
   "outputs": [
    {
     "data": {
      "text/html": [
       "<style>#sk-container-id-1 {color: black;background-color: white;}#sk-container-id-1 pre{padding: 0;}#sk-container-id-1 div.sk-toggleable {background-color: white;}#sk-container-id-1 label.sk-toggleable__label {cursor: pointer;display: block;width: 100%;margin-bottom: 0;padding: 0.3em;box-sizing: border-box;text-align: center;}#sk-container-id-1 label.sk-toggleable__label-arrow:before {content: \"▸\";float: left;margin-right: 0.25em;color: #696969;}#sk-container-id-1 label.sk-toggleable__label-arrow:hover:before {color: black;}#sk-container-id-1 div.sk-estimator:hover label.sk-toggleable__label-arrow:before {color: black;}#sk-container-id-1 div.sk-toggleable__content {max-height: 0;max-width: 0;overflow: hidden;text-align: left;background-color: #f0f8ff;}#sk-container-id-1 div.sk-toggleable__content pre {margin: 0.2em;color: black;border-radius: 0.25em;background-color: #f0f8ff;}#sk-container-id-1 input.sk-toggleable__control:checked~div.sk-toggleable__content {max-height: 200px;max-width: 100%;overflow: auto;}#sk-container-id-1 input.sk-toggleable__control:checked~label.sk-toggleable__label-arrow:before {content: \"▾\";}#sk-container-id-1 div.sk-estimator input.sk-toggleable__control:checked~label.sk-toggleable__label {background-color: #d4ebff;}#sk-container-id-1 div.sk-label input.sk-toggleable__control:checked~label.sk-toggleable__label {background-color: #d4ebff;}#sk-container-id-1 input.sk-hidden--visually {border: 0;clip: rect(1px 1px 1px 1px);clip: rect(1px, 1px, 1px, 1px);height: 1px;margin: -1px;overflow: hidden;padding: 0;position: absolute;width: 1px;}#sk-container-id-1 div.sk-estimator {font-family: monospace;background-color: #f0f8ff;border: 1px dotted black;border-radius: 0.25em;box-sizing: border-box;margin-bottom: 0.5em;}#sk-container-id-1 div.sk-estimator:hover {background-color: #d4ebff;}#sk-container-id-1 div.sk-parallel-item::after {content: \"\";width: 100%;border-bottom: 1px solid gray;flex-grow: 1;}#sk-container-id-1 div.sk-label:hover label.sk-toggleable__label {background-color: #d4ebff;}#sk-container-id-1 div.sk-serial::before {content: \"\";position: absolute;border-left: 1px solid gray;box-sizing: border-box;top: 0;bottom: 0;left: 50%;z-index: 0;}#sk-container-id-1 div.sk-serial {display: flex;flex-direction: column;align-items: center;background-color: white;padding-right: 0.2em;padding-left: 0.2em;position: relative;}#sk-container-id-1 div.sk-item {position: relative;z-index: 1;}#sk-container-id-1 div.sk-parallel {display: flex;align-items: stretch;justify-content: center;background-color: white;position: relative;}#sk-container-id-1 div.sk-item::before, #sk-container-id-1 div.sk-parallel-item::before {content: \"\";position: absolute;border-left: 1px solid gray;box-sizing: border-box;top: 0;bottom: 0;left: 50%;z-index: -1;}#sk-container-id-1 div.sk-parallel-item {display: flex;flex-direction: column;z-index: 1;position: relative;background-color: white;}#sk-container-id-1 div.sk-parallel-item:first-child::after {align-self: flex-end;width: 50%;}#sk-container-id-1 div.sk-parallel-item:last-child::after {align-self: flex-start;width: 50%;}#sk-container-id-1 div.sk-parallel-item:only-child::after {width: 0;}#sk-container-id-1 div.sk-dashed-wrapped {border: 1px dashed gray;margin: 0 0.4em 0.5em 0.4em;box-sizing: border-box;padding-bottom: 0.4em;background-color: white;}#sk-container-id-1 div.sk-label label {font-family: monospace;font-weight: bold;display: inline-block;line-height: 1.2em;}#sk-container-id-1 div.sk-label-container {text-align: center;}#sk-container-id-1 div.sk-container {/* jupyter's `normalize.less` sets `[hidden] { display: none; }` but bootstrap.min.css set `[hidden] { display: none !important; }` so we also need the `!important` here to be able to override the default hidden behavior on the sphinx rendered scikit-learn.org. See: https://github.com/scikit-learn/scikit-learn/issues/21755 */display: inline-block !important;position: relative;}#sk-container-id-1 div.sk-text-repr-fallback {display: none;}</style><div id=\"sk-container-id-1\" class=\"sk-top-container\"><div class=\"sk-text-repr-fallback\"><pre>SVC(C=2, gamma=&#x27;auto&#x27;, kernel=&#x27;poly&#x27;)</pre><b>In a Jupyter environment, please rerun this cell to show the HTML representation or trust the notebook. <br />On GitHub, the HTML representation is unable to render, please try loading this page with nbviewer.org.</b></div><div class=\"sk-container\" hidden><div class=\"sk-item\"><div class=\"sk-estimator sk-toggleable\"><input class=\"sk-toggleable__control sk-hidden--visually\" id=\"sk-estimator-id-1\" type=\"checkbox\" checked><label for=\"sk-estimator-id-1\" class=\"sk-toggleable__label sk-toggleable__label-arrow\">SVC</label><div class=\"sk-toggleable__content\"><pre>SVC(C=2, gamma=&#x27;auto&#x27;, kernel=&#x27;poly&#x27;)</pre></div></div></div></div></div>"
      ],
      "text/plain": [
       "SVC(C=2, gamma='auto', kernel='poly')"
      ]
     },
     "execution_count": 107,
     "metadata": {},
     "output_type": "execute_result"
    }
   ],
   "source": [
    "model_svm.fit(train_x, train_y)"
   ]
  },
  {
   "cell_type": "code",
   "execution_count": 108,
   "id": "c454c811",
   "metadata": {},
   "outputs": [
    {
     "data": {
      "text/plain": [
       "0.9092273068267067"
      ]
     },
     "execution_count": 108,
     "metadata": {},
     "output_type": "execute_result"
    }
   ],
   "source": [
    "model_svm.score(train_x, train_y)"
   ]
  },
  {
   "cell_type": "code",
   "execution_count": 109,
   "id": "83c8b384",
   "metadata": {},
   "outputs": [
    {
     "data": {
      "text/plain": [
       "0.896551724137931"
      ]
     },
     "execution_count": 109,
     "metadata": {},
     "output_type": "execute_result"
    }
   ],
   "source": [
    "model_svm.score(test_x, test_y)"
   ]
  },
  {
   "cell_type": "code",
   "execution_count": 110,
   "id": "403189a9",
   "metadata": {},
   "outputs": [
    {
     "name": "stdout",
     "output_type": "stream",
     "text": [
      "Confusion Matrix:\n",
      "[[550  20]\n",
      " [ 49  48]]\n",
      "Classification Report\n",
      "              precision    recall  f1-score   support\n",
      "\n",
      "           0       0.92      0.96      0.94       570\n",
      "           1       0.71      0.49      0.58        97\n",
      "\n",
      "    accuracy                           0.90       667\n",
      "   macro avg       0.81      0.73      0.76       667\n",
      "weighted avg       0.89      0.90      0.89       667\n",
      "\n"
     ]
    }
   ],
   "source": [
    "predictions = model_svm.predict(test_x)\n",
    "\n",
    "print(\"Confusion Matrix:\")\n",
    "print(confusion_matrix(test_y, predictions))\n",
    "\n",
    "print(\"Classification Report\")\n",
    "print(classification_report(test_y, predictions))\n"
   ]
  },
  {
   "cell_type": "code",
   "execution_count": 111,
   "id": "6b82012f",
   "metadata": {},
   "outputs": [
    {
     "name": "stdout",
     "output_type": "stream",
     "text": [
      "Confusion Matrix:\n",
      "[[2225   55]\n",
      " [ 187  199]]\n",
      "Classification Report\n",
      "              precision    recall  f1-score   support\n",
      "\n",
      "           0       0.92      0.98      0.95      2280\n",
      "           1       0.78      0.52      0.62       386\n",
      "\n",
      "    accuracy                           0.91      2666\n",
      "   macro avg       0.85      0.75      0.79      2666\n",
      "weighted avg       0.90      0.91      0.90      2666\n",
      "\n"
     ]
    }
   ],
   "source": [
    "predictions_train = model_svm.predict(train_x)\n",
    "\n",
    "print(\"Confusion Matrix:\")\n",
    "print(confusion_matrix(train_y, predictions_train))\n",
    "\n",
    "print(\"Classification Report\")\n",
    "print(classification_report(train_y, predictions_train))\n"
   ]
  },
  {
   "cell_type": "code",
   "execution_count": 112,
   "id": "aa24c055",
   "metadata": {},
   "outputs": [],
   "source": [
    "from sklearn.linear_model import LogisticRegression\n",
    "from sklearn.neighbors import KNeighborsClassifier\n",
    "from sklearn.ensemble import RandomForestClassifier\n",
    "from sklearn.svm import SVC\n",
    "from sklearn.naive_bayes import GaussianNB\n",
    "from xgboost import XGBClassifier"
   ]
  },
  {
   "cell_type": "code",
   "execution_count": 120,
   "id": "a0876d83",
   "metadata": {},
   "outputs": [],
   "source": [
    "est = []\n",
    "\n",
    "est.append((\"Logistic Regression\",LogisticRegression(max_iter=500)))\n",
    "est.append((\"KNN\",KNeighborsClassifier()))\n",
    "est.append((\"SVM\",SVC()))\n",
    "est.append((\"NB\",GaussianNB()))\n",
    "est.append((\"RF\",RandomForestClassifier()))\n",
    "est.append((\"Boosting\",XGBClassifier(n_estimators=300, max_depth=3,learning_rate= 0.05)))"
   ]
  },
  {
   "cell_type": "code",
   "execution_count": 121,
   "id": "0dc10b41",
   "metadata": {},
   "outputs": [
    {
     "name": "stdout",
     "output_type": "stream",
     "text": [
      "Logistic Regression || avg: 0.8608487510912113 || std: 0.013151469412995366\n",
      "KNN || avg: 0.9099814142096815 || std: 0.010835265242730265\n",
      "SVM || avg: 0.8593407676494607 || std: 0.005840515937585333\n",
      "NB || avg: 0.8552223254766128 || std: 0.018389198939088552\n",
      "RF || avg: 0.9808693081017148 || std: 0.008944627112462992\n",
      "Boosting || avg: 0.9812438399369208 || std: 0.009185695383882576\n"
     ]
    }
   ],
   "source": [
    "for i in range(len(est)):\n",
    "    model = est[i][1]\n",
    "\n",
    "    results = cross_val_score(model, train_x, train_y, cv=kfold)\n",
    "\n",
    "    avg = results.mean()\n",
    "    sd = results.std()\n",
    "    \n",
    "    print(\"{} || avg: {} || std: {}\".format(est[i][0], avg, sd))"
   ]
  },
  {
   "cell_type": "code",
   "execution_count": 122,
   "id": "a75f02e3",
   "metadata": {},
   "outputs": [
    {
     "name": "stdout",
     "output_type": "stream",
     "text": [
      "Logistic Regression || avg: 0.8650836725463591 || std: 0.021063329277429828\n",
      "KNN || avg: 0.894979647218453 || std: 0.035615493909488156\n",
      "SVM || avg: 0.8546132971506106 || std: 0.005906983595940362\n",
      "NB || avg: 0.8440072365445499 || std: 0.0256373246321575\n",
      "RF || avg: 0.965445499773858 || std: 0.01672772363556137\n",
      "Boosting || avg: 0.9669606512890097 || std: 0.01881046254005858\n"
     ]
    }
   ],
   "source": [
    "for i in range(len(est)):\n",
    "    model = est[i][1]\n",
    "\n",
    "    results = cross_val_score(model, test_x, test_y, cv=kfold)\n",
    "\n",
    "    avg = results.mean()\n",
    "    sd = results.std()\n",
    "    \n",
    "    print(\"{} || avg: {} || std: {}\".format(est[i][0], avg, sd))"
   ]
  },
  {
   "cell_type": "markdown",
   "id": "60cabec6",
   "metadata": {},
   "source": [
    "# "
   ]
  },
  {
   "cell_type": "markdown",
   "id": "8de468b2",
   "metadata": {},
   "source": [
    "### "
   ]
  },
  {
   "cell_type": "markdown",
   "id": "390f0737",
   "metadata": {},
   "source": [
    "### Random Forest "
   ]
  },
  {
   "cell_type": "code",
   "execution_count": 131,
   "id": "a867be98",
   "metadata": {},
   "outputs": [],
   "source": [
    "param = {\"n_estimators\":[50,100,150,200],\n",
    "         \"criterion\":['gini',\"entropy\"],\n",
    "         \"max_depth\":[1,2,3,4,5,6,7]}\n",
    "\n",
    "model = RandomForestClassifier()\n",
    "\n",
    "grid = GridSearchCV(model, param_grid=param,cv=kfold)\n",
    "grid_result = grid.fit(train_x, train_y)"
   ]
  },
  {
   "cell_type": "code",
   "execution_count": 132,
   "id": "f086ed72",
   "metadata": {},
   "outputs": [
    {
     "name": "stdout",
     "output_type": "stream",
     "text": [
      "0.855593 (0.002828) with: {'criterion': 'gini', 'max_depth': 1, 'n_estimators': 50}\n",
      "0.855967 (0.002283) with: {'criterion': 'gini', 'max_depth': 1, 'n_estimators': 100}\n",
      "0.855591 (0.001666) with: {'criterion': 'gini', 'max_depth': 1, 'n_estimators': 150}\n",
      "0.855967 (0.002283) with: {'criterion': 'gini', 'max_depth': 1, 'n_estimators': 200}\n",
      "0.894209 (0.023044) with: {'criterion': 'gini', 'max_depth': 2, 'n_estimators': 50}\n",
      "0.895717 (0.025836) with: {'criterion': 'gini', 'max_depth': 2, 'n_estimators': 100}\n",
      "0.898717 (0.021243) with: {'criterion': 'gini', 'max_depth': 2, 'n_estimators': 150}\n",
      "0.895721 (0.021141) with: {'criterion': 'gini', 'max_depth': 2, 'n_estimators': 200}\n",
      "0.931344 (0.014704) with: {'criterion': 'gini', 'max_depth': 3, 'n_estimators': 50}\n",
      "0.924977 (0.013341) with: {'criterion': 'gini', 'max_depth': 3, 'n_estimators': 100}\n",
      "0.928352 (0.010959) with: {'criterion': 'gini', 'max_depth': 3, 'n_estimators': 150}\n",
      "0.925731 (0.008352) with: {'criterion': 'gini', 'max_depth': 3, 'n_estimators': 200}\n",
      "0.959486 (0.010052) with: {'criterion': 'gini', 'max_depth': 4, 'n_estimators': 50}\n",
      "0.960612 (0.007372) with: {'criterion': 'gini', 'max_depth': 4, 'n_estimators': 100}\n",
      "0.963983 (0.012143) with: {'criterion': 'gini', 'max_depth': 4, 'n_estimators': 150}\n",
      "0.963599 (0.013679) with: {'criterion': 'gini', 'max_depth': 4, 'n_estimators': 200}\n",
      "0.979743 (0.009372) with: {'criterion': 'gini', 'max_depth': 5, 'n_estimators': 50}\n",
      "0.978992 (0.009954) with: {'criterion': 'gini', 'max_depth': 5, 'n_estimators': 100}\n",
      "0.978994 (0.008424) with: {'criterion': 'gini', 'max_depth': 5, 'n_estimators': 150}\n",
      "0.980493 (0.009157) with: {'criterion': 'gini', 'max_depth': 5, 'n_estimators': 200}\n",
      "0.979744 (0.008747) with: {'criterion': 'gini', 'max_depth': 6, 'n_estimators': 50}\n",
      "0.980119 (0.009345) with: {'criterion': 'gini', 'max_depth': 6, 'n_estimators': 100}\n",
      "0.980869 (0.008945) with: {'criterion': 'gini', 'max_depth': 6, 'n_estimators': 150}\n",
      "0.980119 (0.008884) with: {'criterion': 'gini', 'max_depth': 6, 'n_estimators': 200}\n",
      "0.980117 (0.008724) with: {'criterion': 'gini', 'max_depth': 7, 'n_estimators': 50}\n",
      "0.980493 (0.009157) with: {'criterion': 'gini', 'max_depth': 7, 'n_estimators': 100}\n",
      "0.980119 (0.008884) with: {'criterion': 'gini', 'max_depth': 7, 'n_estimators': 150}\n",
      "0.980493 (0.009157) with: {'criterion': 'gini', 'max_depth': 7, 'n_estimators': 200}\n",
      "0.856342 (0.002225) with: {'criterion': 'entropy', 'max_depth': 1, 'n_estimators': 50}\n",
      "0.855591 (0.001666) with: {'criterion': 'entropy', 'max_depth': 1, 'n_estimators': 100}\n",
      "0.855591 (0.001666) with: {'criterion': 'entropy', 'max_depth': 1, 'n_estimators': 150}\n",
      "0.855593 (0.002279) with: {'criterion': 'entropy', 'max_depth': 1, 'n_estimators': 200}\n",
      "0.904345 (0.017953) with: {'criterion': 'entropy', 'max_depth': 2, 'n_estimators': 50}\n",
      "0.885955 (0.023079) with: {'criterion': 'entropy', 'max_depth': 2, 'n_estimators': 100}\n",
      "0.900594 (0.019104) with: {'criterion': 'entropy', 'max_depth': 2, 'n_estimators': 150}\n",
      "0.891222 (0.021086) with: {'criterion': 'entropy', 'max_depth': 2, 'n_estimators': 200}\n",
      "0.941476 (0.017789) with: {'criterion': 'entropy', 'max_depth': 3, 'n_estimators': 50}\n",
      "0.923476 (0.014477) with: {'criterion': 'entropy', 'max_depth': 3, 'n_estimators': 100}\n",
      "0.936606 (0.010275) with: {'criterion': 'entropy', 'max_depth': 3, 'n_estimators': 150}\n",
      "0.926478 (0.010666) with: {'criterion': 'entropy', 'max_depth': 3, 'n_estimators': 200}\n",
      "0.963987 (0.007737) with: {'criterion': 'entropy', 'max_depth': 4, 'n_estimators': 50}\n",
      "0.965483 (0.013005) with: {'criterion': 'entropy', 'max_depth': 4, 'n_estimators': 100}\n",
      "0.966232 (0.012346) with: {'criterion': 'entropy', 'max_depth': 4, 'n_estimators': 150}\n",
      "0.963606 (0.010375) with: {'criterion': 'entropy', 'max_depth': 4, 'n_estimators': 200}\n",
      "0.980120 (0.009781) with: {'criterion': 'entropy', 'max_depth': 5, 'n_estimators': 50}\n",
      "0.979741 (0.009671) with: {'criterion': 'entropy', 'max_depth': 5, 'n_estimators': 100}\n",
      "0.980120 (0.008557) with: {'criterion': 'entropy', 'max_depth': 5, 'n_estimators': 150}\n",
      "0.980869 (0.008945) with: {'criterion': 'entropy', 'max_depth': 5, 'n_estimators': 200}\n",
      "0.979744 (0.009217) with: {'criterion': 'entropy', 'max_depth': 6, 'n_estimators': 50}\n",
      "0.980493 (0.009157) with: {'criterion': 'entropy', 'max_depth': 6, 'n_estimators': 100}\n",
      "0.980493 (0.009157) with: {'criterion': 'entropy', 'max_depth': 6, 'n_estimators': 150}\n",
      "0.980869 (0.008945) with: {'criterion': 'entropy', 'max_depth': 6, 'n_estimators': 200}\n",
      "0.980869 (0.008945) with: {'criterion': 'entropy', 'max_depth': 7, 'n_estimators': 50}\n",
      "0.980869 (0.008945) with: {'criterion': 'entropy', 'max_depth': 7, 'n_estimators': 100}\n",
      "0.980869 (0.008945) with: {'criterion': 'entropy', 'max_depth': 7, 'n_estimators': 150}\n",
      "0.980869 (0.008945) with: {'criterion': 'entropy', 'max_depth': 7, 'n_estimators': 200}\n"
     ]
    }
   ],
   "source": [
    "means = grid_result.cv_results_['mean_test_score']\n",
    "stds = grid_result.cv_results_['std_test_score']\n",
    "params = grid_result.cv_results_['params']\n",
    "for mean, stdev, param in zip(means, stds, params):\n",
    "    print(\"%f (%f) with: %r\" % (mean, stdev, param))"
   ]
  },
  {
   "cell_type": "code",
   "execution_count": 133,
   "id": "74db81a9",
   "metadata": {},
   "outputs": [
    {
     "data": {
      "text/plain": [
       "{'criterion': 'gini', 'max_depth': 6, 'n_estimators': 150}"
      ]
     },
     "execution_count": 133,
     "metadata": {},
     "output_type": "execute_result"
    }
   ],
   "source": [
    "grid_result.best_params_"
   ]
  },
  {
   "cell_type": "code",
   "execution_count": 134,
   "id": "86a2656e",
   "metadata": {},
   "outputs": [
    {
     "name": "stdout",
     "output_type": "stream",
     "text": [
      "Confusion Matrix:\n",
      "[[570   0]\n",
      " [ 20  77]]\n",
      "Classification Report\n",
      "              precision    recall  f1-score   support\n",
      "\n",
      "           0       0.97      1.00      0.98       570\n",
      "           1       1.00      0.79      0.89        97\n",
      "\n",
      "    accuracy                           0.97       667\n",
      "   macro avg       0.98      0.90      0.93       667\n",
      "weighted avg       0.97      0.97      0.97       667\n",
      "\n"
     ]
    }
   ],
   "source": [
    "model_rf = RandomForestClassifier(criterion='gini', max_depth=6, n_estimators=150)\n",
    "model_rf.fit(train_x,train_y)\n",
    "predictions = model_rf.predict(test_x)\n",
    "\n",
    "print(\"Confusion Matrix:\")\n",
    "print(confusion_matrix(test_y, predictions))\n",
    "\n",
    "print(\"Classification Report\")\n",
    "print(classification_report(test_y, predictions))\n"
   ]
  },
  {
   "cell_type": "code",
   "execution_count": 135,
   "id": "7ceabea3",
   "metadata": {},
   "outputs": [
    {
     "name": "stdout",
     "output_type": "stream",
     "text": [
      "Confusion Matrix:\n",
      "[[2280    0]\n",
      " [  49  337]]\n",
      "Classification Report\n",
      "              precision    recall  f1-score   support\n",
      "\n",
      "           0       0.98      1.00      0.99      2280\n",
      "           1       1.00      0.87      0.93       386\n",
      "\n",
      "    accuracy                           0.98      2666\n",
      "   macro avg       0.99      0.94      0.96      2666\n",
      "weighted avg       0.98      0.98      0.98      2666\n",
      "\n"
     ]
    }
   ],
   "source": [
    "predictions_train = model_rf.predict(train_x)\n",
    "\n",
    "print(\"Confusion Matrix:\")\n",
    "print(confusion_matrix(train_y, predictions_train))\n",
    "\n",
    "print(\"Classification Report\")\n",
    "print(classification_report(train_y, predictions_train))\n"
   ]
  },
  {
   "cell_type": "code",
   "execution_count": null,
   "id": "9559e806",
   "metadata": {},
   "outputs": [],
   "source": []
  },
  {
   "cell_type": "markdown",
   "id": "7c51cfd3",
   "metadata": {},
   "source": [
    "# Selecting Xgboost as final model "
   ]
  },
  {
   "cell_type": "code",
   "execution_count": 2,
   "id": "a66f020b",
   "metadata": {},
   "outputs": [],
   "source": [
    "from sklearn.pipeline import Pipeline\n",
    "from sklearn.preprocessing import LabelEncoder\n",
    "from sklearn_pandas import DataFrameMapper"
   ]
  },
  {
   "cell_type": "code",
   "execution_count": 3,
   "id": "b497c082",
   "metadata": {},
   "outputs": [],
   "source": [
    "telecom = pd.read_csv(\"tele_model_data.csv\")"
   ]
  },
  {
   "cell_type": "code",
   "execution_count": 4,
   "id": "cac1e845",
   "metadata": {},
   "outputs": [
    {
     "data": {
      "text/html": [
       "<div>\n",
       "<style scoped>\n",
       "    .dataframe tbody tr th:only-of-type {\n",
       "        vertical-align: middle;\n",
       "    }\n",
       "\n",
       "    .dataframe tbody tr th {\n",
       "        vertical-align: top;\n",
       "    }\n",
       "\n",
       "    .dataframe thead th {\n",
       "        text-align: right;\n",
       "    }\n",
       "</style>\n",
       "<table border=\"1\" class=\"dataframe\">\n",
       "  <thead>\n",
       "    <tr style=\"text-align: right;\">\n",
       "      <th></th>\n",
       "      <th>voice_mail_plan</th>\n",
       "      <th>international_mins</th>\n",
       "      <th>customer_service_calls</th>\n",
       "      <th>international_plan</th>\n",
       "      <th>international_calls</th>\n",
       "      <th>total_charge</th>\n",
       "      <th>churn</th>\n",
       "    </tr>\n",
       "  </thead>\n",
       "  <tbody>\n",
       "    <tr>\n",
       "      <th>0</th>\n",
       "      <td>1</td>\n",
       "      <td>10.0</td>\n",
       "      <td>1</td>\n",
       "      <td>0</td>\n",
       "      <td>3</td>\n",
       "      <td>75.56</td>\n",
       "      <td>0</td>\n",
       "    </tr>\n",
       "    <tr>\n",
       "      <th>1</th>\n",
       "      <td>1</td>\n",
       "      <td>13.7</td>\n",
       "      <td>1</td>\n",
       "      <td>0</td>\n",
       "      <td>3</td>\n",
       "      <td>59.24</td>\n",
       "      <td>0</td>\n",
       "    </tr>\n",
       "    <tr>\n",
       "      <th>2</th>\n",
       "      <td>0</td>\n",
       "      <td>12.2</td>\n",
       "      <td>0</td>\n",
       "      <td>0</td>\n",
       "      <td>5</td>\n",
       "      <td>62.29</td>\n",
       "      <td>0</td>\n",
       "    </tr>\n",
       "    <tr>\n",
       "      <th>3</th>\n",
       "      <td>0</td>\n",
       "      <td>6.6</td>\n",
       "      <td>2</td>\n",
       "      <td>1</td>\n",
       "      <td>7</td>\n",
       "      <td>66.80</td>\n",
       "      <td>0</td>\n",
       "    </tr>\n",
       "    <tr>\n",
       "      <th>4</th>\n",
       "      <td>0</td>\n",
       "      <td>10.1</td>\n",
       "      <td>3</td>\n",
       "      <td>1</td>\n",
       "      <td>3</td>\n",
       "      <td>52.09</td>\n",
       "      <td>0</td>\n",
       "    </tr>\n",
       "    <tr>\n",
       "      <th>...</th>\n",
       "      <td>...</td>\n",
       "      <td>...</td>\n",
       "      <td>...</td>\n",
       "      <td>...</td>\n",
       "      <td>...</td>\n",
       "      <td>...</td>\n",
       "      <td>...</td>\n",
       "    </tr>\n",
       "    <tr>\n",
       "      <th>3328</th>\n",
       "      <td>1</td>\n",
       "      <td>9.9</td>\n",
       "      <td>2</td>\n",
       "      <td>0</td>\n",
       "      <td>6</td>\n",
       "      <td>60.10</td>\n",
       "      <td>0</td>\n",
       "    </tr>\n",
       "    <tr>\n",
       "      <th>3329</th>\n",
       "      <td>0</td>\n",
       "      <td>9.6</td>\n",
       "      <td>3</td>\n",
       "      <td>0</td>\n",
       "      <td>4</td>\n",
       "      <td>63.53</td>\n",
       "      <td>0</td>\n",
       "    </tr>\n",
       "    <tr>\n",
       "      <th>3330</th>\n",
       "      <td>0</td>\n",
       "      <td>14.1</td>\n",
       "      <td>2</td>\n",
       "      <td>0</td>\n",
       "      <td>6</td>\n",
       "      <td>67.74</td>\n",
       "      <td>0</td>\n",
       "    </tr>\n",
       "    <tr>\n",
       "      <th>3331</th>\n",
       "      <td>0</td>\n",
       "      <td>5.0</td>\n",
       "      <td>2</td>\n",
       "      <td>1</td>\n",
       "      <td>10</td>\n",
       "      <td>57.53</td>\n",
       "      <td>0</td>\n",
       "    </tr>\n",
       "    <tr>\n",
       "      <th>3332</th>\n",
       "      <td>1</td>\n",
       "      <td>13.7</td>\n",
       "      <td>0</td>\n",
       "      <td>0</td>\n",
       "      <td>4</td>\n",
       "      <td>77.01</td>\n",
       "      <td>0</td>\n",
       "    </tr>\n",
       "  </tbody>\n",
       "</table>\n",
       "<p>3333 rows × 7 columns</p>\n",
       "</div>"
      ],
      "text/plain": [
       "      voice_mail_plan  international_mins  customer_service_calls  \\\n",
       "0                   1                10.0                       1   \n",
       "1                   1                13.7                       1   \n",
       "2                   0                12.2                       0   \n",
       "3                   0                 6.6                       2   \n",
       "4                   0                10.1                       3   \n",
       "...               ...                 ...                     ...   \n",
       "3328                1                 9.9                       2   \n",
       "3329                0                 9.6                       3   \n",
       "3330                0                14.1                       2   \n",
       "3331                0                 5.0                       2   \n",
       "3332                1                13.7                       0   \n",
       "\n",
       "      international_plan  international_calls  total_charge  churn  \n",
       "0                      0                    3         75.56      0  \n",
       "1                      0                    3         59.24      0  \n",
       "2                      0                    5         62.29      0  \n",
       "3                      1                    7         66.80      0  \n",
       "4                      1                    3         52.09      0  \n",
       "...                  ...                  ...           ...    ...  \n",
       "3328                   0                    6         60.10      0  \n",
       "3329                   0                    4         63.53      0  \n",
       "3330                   0                    6         67.74      0  \n",
       "3331                   1                   10         57.53      0  \n",
       "3332                   0                    4         77.01      0  \n",
       "\n",
       "[3333 rows x 7 columns]"
      ]
     },
     "execution_count": 4,
     "metadata": {},
     "output_type": "execute_result"
    }
   ],
   "source": [
    "telecom"
   ]
  },
  {
   "cell_type": "code",
   "execution_count": 5,
   "id": "3f97d1a9",
   "metadata": {},
   "outputs": [],
   "source": [
    "telecom['voice_mail_plan'].replace({0:\"No\",1:'Yes'}, inplace=True)\n",
    "telecom['international_plan'].replace({0:\"No\",1:'Yes'}, inplace=True)\n",
    "# telecom.replace({'churn': {0: \"No\", 1: \"Yes\"}}, inplace=True)"
   ]
  },
  {
   "cell_type": "code",
   "execution_count": 6,
   "id": "4096b00b",
   "metadata": {},
   "outputs": [
    {
     "data": {
      "text/html": [
       "<div>\n",
       "<style scoped>\n",
       "    .dataframe tbody tr th:only-of-type {\n",
       "        vertical-align: middle;\n",
       "    }\n",
       "\n",
       "    .dataframe tbody tr th {\n",
       "        vertical-align: top;\n",
       "    }\n",
       "\n",
       "    .dataframe thead th {\n",
       "        text-align: right;\n",
       "    }\n",
       "</style>\n",
       "<table border=\"1\" class=\"dataframe\">\n",
       "  <thead>\n",
       "    <tr style=\"text-align: right;\">\n",
       "      <th></th>\n",
       "      <th>voice_mail_plan</th>\n",
       "      <th>international_mins</th>\n",
       "      <th>customer_service_calls</th>\n",
       "      <th>international_plan</th>\n",
       "      <th>international_calls</th>\n",
       "      <th>total_charge</th>\n",
       "      <th>churn</th>\n",
       "    </tr>\n",
       "  </thead>\n",
       "  <tbody>\n",
       "    <tr>\n",
       "      <th>0</th>\n",
       "      <td>Yes</td>\n",
       "      <td>10.0</td>\n",
       "      <td>1</td>\n",
       "      <td>No</td>\n",
       "      <td>3</td>\n",
       "      <td>75.56</td>\n",
       "      <td>0</td>\n",
       "    </tr>\n",
       "    <tr>\n",
       "      <th>1</th>\n",
       "      <td>Yes</td>\n",
       "      <td>13.7</td>\n",
       "      <td>1</td>\n",
       "      <td>No</td>\n",
       "      <td>3</td>\n",
       "      <td>59.24</td>\n",
       "      <td>0</td>\n",
       "    </tr>\n",
       "    <tr>\n",
       "      <th>2</th>\n",
       "      <td>No</td>\n",
       "      <td>12.2</td>\n",
       "      <td>0</td>\n",
       "      <td>No</td>\n",
       "      <td>5</td>\n",
       "      <td>62.29</td>\n",
       "      <td>0</td>\n",
       "    </tr>\n",
       "    <tr>\n",
       "      <th>3</th>\n",
       "      <td>No</td>\n",
       "      <td>6.6</td>\n",
       "      <td>2</td>\n",
       "      <td>Yes</td>\n",
       "      <td>7</td>\n",
       "      <td>66.80</td>\n",
       "      <td>0</td>\n",
       "    </tr>\n",
       "    <tr>\n",
       "      <th>4</th>\n",
       "      <td>No</td>\n",
       "      <td>10.1</td>\n",
       "      <td>3</td>\n",
       "      <td>Yes</td>\n",
       "      <td>3</td>\n",
       "      <td>52.09</td>\n",
       "      <td>0</td>\n",
       "    </tr>\n",
       "    <tr>\n",
       "      <th>...</th>\n",
       "      <td>...</td>\n",
       "      <td>...</td>\n",
       "      <td>...</td>\n",
       "      <td>...</td>\n",
       "      <td>...</td>\n",
       "      <td>...</td>\n",
       "      <td>...</td>\n",
       "    </tr>\n",
       "    <tr>\n",
       "      <th>3328</th>\n",
       "      <td>Yes</td>\n",
       "      <td>9.9</td>\n",
       "      <td>2</td>\n",
       "      <td>No</td>\n",
       "      <td>6</td>\n",
       "      <td>60.10</td>\n",
       "      <td>0</td>\n",
       "    </tr>\n",
       "    <tr>\n",
       "      <th>3329</th>\n",
       "      <td>No</td>\n",
       "      <td>9.6</td>\n",
       "      <td>3</td>\n",
       "      <td>No</td>\n",
       "      <td>4</td>\n",
       "      <td>63.53</td>\n",
       "      <td>0</td>\n",
       "    </tr>\n",
       "    <tr>\n",
       "      <th>3330</th>\n",
       "      <td>No</td>\n",
       "      <td>14.1</td>\n",
       "      <td>2</td>\n",
       "      <td>No</td>\n",
       "      <td>6</td>\n",
       "      <td>67.74</td>\n",
       "      <td>0</td>\n",
       "    </tr>\n",
       "    <tr>\n",
       "      <th>3331</th>\n",
       "      <td>No</td>\n",
       "      <td>5.0</td>\n",
       "      <td>2</td>\n",
       "      <td>Yes</td>\n",
       "      <td>10</td>\n",
       "      <td>57.53</td>\n",
       "      <td>0</td>\n",
       "    </tr>\n",
       "    <tr>\n",
       "      <th>3332</th>\n",
       "      <td>Yes</td>\n",
       "      <td>13.7</td>\n",
       "      <td>0</td>\n",
       "      <td>No</td>\n",
       "      <td>4</td>\n",
       "      <td>77.01</td>\n",
       "      <td>0</td>\n",
       "    </tr>\n",
       "  </tbody>\n",
       "</table>\n",
       "<p>3333 rows × 7 columns</p>\n",
       "</div>"
      ],
      "text/plain": [
       "     voice_mail_plan  international_mins  customer_service_calls  \\\n",
       "0                Yes                10.0                       1   \n",
       "1                Yes                13.7                       1   \n",
       "2                 No                12.2                       0   \n",
       "3                 No                 6.6                       2   \n",
       "4                 No                10.1                       3   \n",
       "...              ...                 ...                     ...   \n",
       "3328             Yes                 9.9                       2   \n",
       "3329              No                 9.6                       3   \n",
       "3330              No                14.1                       2   \n",
       "3331              No                 5.0                       2   \n",
       "3332             Yes                13.7                       0   \n",
       "\n",
       "     international_plan  international_calls  total_charge  churn  \n",
       "0                    No                    3         75.56      0  \n",
       "1                    No                    3         59.24      0  \n",
       "2                    No                    5         62.29      0  \n",
       "3                   Yes                    7         66.80      0  \n",
       "4                   Yes                    3         52.09      0  \n",
       "...                 ...                  ...           ...    ...  \n",
       "3328                 No                    6         60.10      0  \n",
       "3329                 No                    4         63.53      0  \n",
       "3330                 No                    6         67.74      0  \n",
       "3331                Yes                   10         57.53      0  \n",
       "3332                 No                    4         77.01      0  \n",
       "\n",
       "[3333 rows x 7 columns]"
      ]
     },
     "execution_count": 6,
     "metadata": {},
     "output_type": "execute_result"
    }
   ],
   "source": [
    "telecom"
   ]
  },
  {
   "cell_type": "code",
   "execution_count": 7,
   "id": "27b6332f",
   "metadata": {},
   "outputs": [],
   "source": [
    "X = telecom.drop(\"churn\", axis=1)\n",
    "y = telecom.churn\n"
   ]
  },
  {
   "cell_type": "code",
   "execution_count": 8,
   "id": "e2de258a",
   "metadata": {},
   "outputs": [
    {
     "data": {
      "text/plain": [
       "0    2850\n",
       "1     483\n",
       "Name: churn, dtype: int64"
      ]
     },
     "execution_count": 8,
     "metadata": {},
     "output_type": "execute_result"
    }
   ],
   "source": [
    "y.value_counts()"
   ]
  },
  {
   "cell_type": "code",
   "execution_count": 9,
   "id": "c306067e",
   "metadata": {},
   "outputs": [],
   "source": [
    "m = DataFrameMapper([([\"voice_mail_plan\",LabelEncoder()]),([\"international_plan\",LabelEncoder()])])"
   ]
  },
  {
   "cell_type": "code",
   "execution_count": 10,
   "id": "4f8385e1",
   "metadata": {},
   "outputs": [],
   "source": [
    "classifier = []\n",
    "classifier.append((\"mapper\",m))\n",
    "classifier.append((\"model\", XGBClassifier(n_estimators=300, max_depth=3,learning_rate= 0.05)))"
   ]
  },
  {
   "cell_type": "code",
   "execution_count": 11,
   "id": "808e9a46",
   "metadata": {},
   "outputs": [
    {
     "data": {
      "text/plain": [
       "[('mapper',\n",
       "  DataFrameMapper(drop_cols=[],\n",
       "                  features=[['voice_mail_plan', LabelEncoder()],\n",
       "                            ['international_plan', LabelEncoder()]])),\n",
       " ('model',\n",
       "  XGBClassifier(base_score=None, booster=None, callbacks=None,\n",
       "                colsample_bylevel=None, colsample_bynode=None,\n",
       "                colsample_bytree=None, early_stopping_rounds=None,\n",
       "                enable_categorical=False, eval_metric=None, gamma=None,\n",
       "                gpu_id=None, grow_policy=None, importance_type=None,\n",
       "                interaction_constraints=None, learning_rate=0.05, max_bin=None,\n",
       "                max_cat_to_onehot=None, max_delta_step=None, max_depth=3,\n",
       "                max_leaves=None, min_child_weight=None, missing=nan,\n",
       "                monotone_constraints=None, n_estimators=300, n_jobs=None,\n",
       "                num_parallel_tree=None, predictor=None, random_state=None,\n",
       "                reg_alpha=None, reg_lambda=None, ...))]"
      ]
     },
     "execution_count": 11,
     "metadata": {},
     "output_type": "execute_result"
    }
   ],
   "source": [
    "classifier"
   ]
  },
  {
   "cell_type": "code",
   "execution_count": 12,
   "id": "5495e1ce",
   "metadata": {},
   "outputs": [],
   "source": [
    "model= Pipeline(classifier)"
   ]
  },
  {
   "cell_type": "code",
   "execution_count": 13,
   "id": "b078c3e7",
   "metadata": {},
   "outputs": [
    {
     "data": {
      "text/html": [
       "<style>#sk-container-id-1 {color: black;background-color: white;}#sk-container-id-1 pre{padding: 0;}#sk-container-id-1 div.sk-toggleable {background-color: white;}#sk-container-id-1 label.sk-toggleable__label {cursor: pointer;display: block;width: 100%;margin-bottom: 0;padding: 0.3em;box-sizing: border-box;text-align: center;}#sk-container-id-1 label.sk-toggleable__label-arrow:before {content: \"▸\";float: left;margin-right: 0.25em;color: #696969;}#sk-container-id-1 label.sk-toggleable__label-arrow:hover:before {color: black;}#sk-container-id-1 div.sk-estimator:hover label.sk-toggleable__label-arrow:before {color: black;}#sk-container-id-1 div.sk-toggleable__content {max-height: 0;max-width: 0;overflow: hidden;text-align: left;background-color: #f0f8ff;}#sk-container-id-1 div.sk-toggleable__content pre {margin: 0.2em;color: black;border-radius: 0.25em;background-color: #f0f8ff;}#sk-container-id-1 input.sk-toggleable__control:checked~div.sk-toggleable__content {max-height: 200px;max-width: 100%;overflow: auto;}#sk-container-id-1 input.sk-toggleable__control:checked~label.sk-toggleable__label-arrow:before {content: \"▾\";}#sk-container-id-1 div.sk-estimator input.sk-toggleable__control:checked~label.sk-toggleable__label {background-color: #d4ebff;}#sk-container-id-1 div.sk-label input.sk-toggleable__control:checked~label.sk-toggleable__label {background-color: #d4ebff;}#sk-container-id-1 input.sk-hidden--visually {border: 0;clip: rect(1px 1px 1px 1px);clip: rect(1px, 1px, 1px, 1px);height: 1px;margin: -1px;overflow: hidden;padding: 0;position: absolute;width: 1px;}#sk-container-id-1 div.sk-estimator {font-family: monospace;background-color: #f0f8ff;border: 1px dotted black;border-radius: 0.25em;box-sizing: border-box;margin-bottom: 0.5em;}#sk-container-id-1 div.sk-estimator:hover {background-color: #d4ebff;}#sk-container-id-1 div.sk-parallel-item::after {content: \"\";width: 100%;border-bottom: 1px solid gray;flex-grow: 1;}#sk-container-id-1 div.sk-label:hover label.sk-toggleable__label {background-color: #d4ebff;}#sk-container-id-1 div.sk-serial::before {content: \"\";position: absolute;border-left: 1px solid gray;box-sizing: border-box;top: 0;bottom: 0;left: 50%;z-index: 0;}#sk-container-id-1 div.sk-serial {display: flex;flex-direction: column;align-items: center;background-color: white;padding-right: 0.2em;padding-left: 0.2em;position: relative;}#sk-container-id-1 div.sk-item {position: relative;z-index: 1;}#sk-container-id-1 div.sk-parallel {display: flex;align-items: stretch;justify-content: center;background-color: white;position: relative;}#sk-container-id-1 div.sk-item::before, #sk-container-id-1 div.sk-parallel-item::before {content: \"\";position: absolute;border-left: 1px solid gray;box-sizing: border-box;top: 0;bottom: 0;left: 50%;z-index: -1;}#sk-container-id-1 div.sk-parallel-item {display: flex;flex-direction: column;z-index: 1;position: relative;background-color: white;}#sk-container-id-1 div.sk-parallel-item:first-child::after {align-self: flex-end;width: 50%;}#sk-container-id-1 div.sk-parallel-item:last-child::after {align-self: flex-start;width: 50%;}#sk-container-id-1 div.sk-parallel-item:only-child::after {width: 0;}#sk-container-id-1 div.sk-dashed-wrapped {border: 1px dashed gray;margin: 0 0.4em 0.5em 0.4em;box-sizing: border-box;padding-bottom: 0.4em;background-color: white;}#sk-container-id-1 div.sk-label label {font-family: monospace;font-weight: bold;display: inline-block;line-height: 1.2em;}#sk-container-id-1 div.sk-label-container {text-align: center;}#sk-container-id-1 div.sk-container {/* jupyter's `normalize.less` sets `[hidden] { display: none; }` but bootstrap.min.css set `[hidden] { display: none !important; }` so we also need the `!important` here to be able to override the default hidden behavior on the sphinx rendered scikit-learn.org. See: https://github.com/scikit-learn/scikit-learn/issues/21755 */display: inline-block !important;position: relative;}#sk-container-id-1 div.sk-text-repr-fallback {display: none;}</style><div id=\"sk-container-id-1\" class=\"sk-top-container\"><div class=\"sk-text-repr-fallback\"><pre>Pipeline(steps=[(&#x27;mapper&#x27;,\n",
       "                 DataFrameMapper(drop_cols=[],\n",
       "                                 features=[[&#x27;voice_mail_plan&#x27;, LabelEncoder()],\n",
       "                                           [&#x27;international_plan&#x27;,\n",
       "                                            LabelEncoder()]])),\n",
       "                (&#x27;model&#x27;,\n",
       "                 XGBClassifier(base_score=0.5, booster=&#x27;gbtree&#x27;, callbacks=None,\n",
       "                               colsample_bylevel=1, colsample_bynode=1,\n",
       "                               colsample_bytree=1, early_stopping_rounds=None,\n",
       "                               enable_categorical=False, eval_metric=None,\n",
       "                               gamma=0, gpu_id=-1, grow_policy=&#x27;depthwise&#x27;,\n",
       "                               importance_type=None, interaction_constraints=&#x27;&#x27;,\n",
       "                               learning_rate=0.05, max_bin=256,\n",
       "                               max_cat_to_onehot=4, max_delta_step=0,\n",
       "                               max_depth=3, max_leaves=0, min_child_weight=1,\n",
       "                               missing=nan, monotone_constraints=&#x27;()&#x27;,\n",
       "                               n_estimators=300, n_jobs=0, num_parallel_tree=1,\n",
       "                               predictor=&#x27;auto&#x27;, random_state=0, reg_alpha=0,\n",
       "                               reg_lambda=1, ...))])</pre><b>In a Jupyter environment, please rerun this cell to show the HTML representation or trust the notebook. <br />On GitHub, the HTML representation is unable to render, please try loading this page with nbviewer.org.</b></div><div class=\"sk-container\" hidden><div class=\"sk-item sk-dashed-wrapped\"><div class=\"sk-label-container\"><div class=\"sk-label sk-toggleable\"><input class=\"sk-toggleable__control sk-hidden--visually\" id=\"sk-estimator-id-1\" type=\"checkbox\" ><label for=\"sk-estimator-id-1\" class=\"sk-toggleable__label sk-toggleable__label-arrow\">Pipeline</label><div class=\"sk-toggleable__content\"><pre>Pipeline(steps=[(&#x27;mapper&#x27;,\n",
       "                 DataFrameMapper(drop_cols=[],\n",
       "                                 features=[[&#x27;voice_mail_plan&#x27;, LabelEncoder()],\n",
       "                                           [&#x27;international_plan&#x27;,\n",
       "                                            LabelEncoder()]])),\n",
       "                (&#x27;model&#x27;,\n",
       "                 XGBClassifier(base_score=0.5, booster=&#x27;gbtree&#x27;, callbacks=None,\n",
       "                               colsample_bylevel=1, colsample_bynode=1,\n",
       "                               colsample_bytree=1, early_stopping_rounds=None,\n",
       "                               enable_categorical=False, eval_metric=None,\n",
       "                               gamma=0, gpu_id=-1, grow_policy=&#x27;depthwise&#x27;,\n",
       "                               importance_type=None, interaction_constraints=&#x27;&#x27;,\n",
       "                               learning_rate=0.05, max_bin=256,\n",
       "                               max_cat_to_onehot=4, max_delta_step=0,\n",
       "                               max_depth=3, max_leaves=0, min_child_weight=1,\n",
       "                               missing=nan, monotone_constraints=&#x27;()&#x27;,\n",
       "                               n_estimators=300, n_jobs=0, num_parallel_tree=1,\n",
       "                               predictor=&#x27;auto&#x27;, random_state=0, reg_alpha=0,\n",
       "                               reg_lambda=1, ...))])</pre></div></div></div><div class=\"sk-serial\"><div class=\"sk-item\"><div class=\"sk-estimator sk-toggleable\"><input class=\"sk-toggleable__control sk-hidden--visually\" id=\"sk-estimator-id-2\" type=\"checkbox\" ><label for=\"sk-estimator-id-2\" class=\"sk-toggleable__label sk-toggleable__label-arrow\">DataFrameMapper</label><div class=\"sk-toggleable__content\"><pre>DataFrameMapper(drop_cols=[],\n",
       "                features=[[&#x27;voice_mail_plan&#x27;, LabelEncoder()],\n",
       "                          [&#x27;international_plan&#x27;, LabelEncoder()]])</pre></div></div></div><div class=\"sk-item\"><div class=\"sk-estimator sk-toggleable\"><input class=\"sk-toggleable__control sk-hidden--visually\" id=\"sk-estimator-id-3\" type=\"checkbox\" ><label for=\"sk-estimator-id-3\" class=\"sk-toggleable__label sk-toggleable__label-arrow\">XGBClassifier</label><div class=\"sk-toggleable__content\"><pre>XGBClassifier(base_score=0.5, booster=&#x27;gbtree&#x27;, callbacks=None,\n",
       "              colsample_bylevel=1, colsample_bynode=1, colsample_bytree=1,\n",
       "              early_stopping_rounds=None, enable_categorical=False,\n",
       "              eval_metric=None, gamma=0, gpu_id=-1, grow_policy=&#x27;depthwise&#x27;,\n",
       "              importance_type=None, interaction_constraints=&#x27;&#x27;,\n",
       "              learning_rate=0.05, max_bin=256, max_cat_to_onehot=4,\n",
       "              max_delta_step=0, max_depth=3, max_leaves=0, min_child_weight=1,\n",
       "              missing=nan, monotone_constraints=&#x27;()&#x27;, n_estimators=300,\n",
       "              n_jobs=0, num_parallel_tree=1, predictor=&#x27;auto&#x27;, random_state=0,\n",
       "              reg_alpha=0, reg_lambda=1, ...)</pre></div></div></div></div></div></div></div>"
      ],
      "text/plain": [
       "Pipeline(steps=[('mapper',\n",
       "                 DataFrameMapper(drop_cols=[],\n",
       "                                 features=[['voice_mail_plan', LabelEncoder()],\n",
       "                                           ['international_plan',\n",
       "                                            LabelEncoder()]])),\n",
       "                ('model',\n",
       "                 XGBClassifier(base_score=0.5, booster='gbtree', callbacks=None,\n",
       "                               colsample_bylevel=1, colsample_bynode=1,\n",
       "                               colsample_bytree=1, early_stopping_rounds=None,\n",
       "                               enable_categorical=False, eval_metric=None,\n",
       "                               gamma=0, gpu_id=-1, grow_policy='depthwise',\n",
       "                               importance_type=None, interaction_constraints='',\n",
       "                               learning_rate=0.05, max_bin=256,\n",
       "                               max_cat_to_onehot=4, max_delta_step=0,\n",
       "                               max_depth=3, max_leaves=0, min_child_weight=1,\n",
       "                               missing=nan, monotone_constraints='()',\n",
       "                               n_estimators=300, n_jobs=0, num_parallel_tree=1,\n",
       "                               predictor='auto', random_state=0, reg_alpha=0,\n",
       "                               reg_lambda=1, ...))])"
      ]
     },
     "execution_count": 13,
     "metadata": {},
     "output_type": "execute_result"
    }
   ],
   "source": [
    "model.fit(X,y)"
   ]
  },
  {
   "cell_type": "code",
   "execution_count": 14,
   "id": "ed6c5299",
   "metadata": {},
   "outputs": [],
   "source": [
    "import pickle\n",
    "with open(file=\"Final_model.pkl\", mode=\"wb\") as f:\n",
    "    pickle.dump(model, f)"
   ]
  },
  {
   "cell_type": "code",
   "execution_count": null,
   "id": "f9bb1e79",
   "metadata": {},
   "outputs": [],
   "source": []
  }
 ],
 "metadata": {
  "kernelspec": {
   "display_name": "Python 3 (ipykernel)",
   "language": "python",
   "name": "python3"
  },
  "language_info": {
   "codemirror_mode": {
    "name": "ipython",
    "version": 3
   },
   "file_extension": ".py",
   "mimetype": "text/x-python",
   "name": "python",
   "nbconvert_exporter": "python",
   "pygments_lexer": "ipython3",
   "version": "3.9.12"
  },
  "latex_envs": {
   "LaTeX_envs_menu_present": true,
   "autoclose": true,
   "autocomplete": true,
   "bibliofile": "biblio.bib",
   "cite_by": "apalike",
   "current_citInitial": 1,
   "eqLabelWithNumbers": true,
   "eqNumInitial": 1,
   "hotkeys": {
    "equation": "Ctrl-E",
    "itemize": "Ctrl-I"
   },
   "labels_anchors": false,
   "latex_user_defs": false,
   "report_style_numbering": false,
   "user_envs_cfg": false
  },
  "varInspector": {
   "cols": {
    "lenName": 16,
    "lenType": 16,
    "lenVar": 40
   },
   "kernels_config": {
    "python": {
     "delete_cmd_postfix": "",
     "delete_cmd_prefix": "del ",
     "library": "var_list.py",
     "varRefreshCmd": "print(var_dic_list())"
    },
    "r": {
     "delete_cmd_postfix": ") ",
     "delete_cmd_prefix": "rm(",
     "library": "var_list.r",
     "varRefreshCmd": "cat(var_dic_list()) "
    }
   },
   "types_to_exclude": [
    "module",
    "function",
    "builtin_function_or_method",
    "instance",
    "_Feature"
   ],
   "window_display": false
  }
 },
 "nbformat": 4,
 "nbformat_minor": 5
}
